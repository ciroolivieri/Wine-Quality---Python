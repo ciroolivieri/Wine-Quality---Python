{
 "cells": [
  {
   "cell_type": "markdown",
   "metadata": {},
   "source": [
    "# Teste - Machine Learning"
   ]
  },
  {
   "cell_type": "markdown",
   "metadata": {},
   "source": [
    "## **Introdução**\n",
    "\n",
    "O presente problema se refere aos dados de vinhos portugueses \"Vinho Verde\", que possuem variantes de vinho branco e tinto. Com apenas variáveis físico-químicas (input) e sensorias (output) estão disponíveis.<br> \n",
    "\n",
    "### **Objetivo**\n",
    "Criar um modelo para estimar a qualidade do vinho.<br>\n",
    "\n",
    "1. [Bibliotecas e Importação da Base](#1-bullet) <br>\n",
    "2. [Qualidade dos dados](#2-bullet)<br>\n",
    "3. [Análise Exploratória](#3-bullet) <br>\n",
    "4. [Modelos Preditivos e Avalição de Perfomance](#4-bullet) <br>\n",
    "6. [Conclusão](#6-bullet) <br>"
   ]
  },
  {
   "cell_type": "markdown",
   "metadata": {},
   "source": [
    "### 1. Biblioteca e Importação da base <a class=\"anchor\" id=\"1-bullet\"></a>"
   ]
  },
  {
   "cell_type": "code",
   "execution_count": 123,
   "metadata": {},
   "outputs": [],
   "source": [
    "### Carregar bibliotecas\n",
    "# Algebra linear\n",
    "import numpy as np \n",
    "\n",
    "# Processamento de Dados\n",
    "import pandas as pd\n",
    "from sklearn.preprocessing import StandardScaler, LabelEncoder\n",
    "\n",
    "# Visualização de dados\n",
    "import seaborn as sns\n",
    "import matplotlib.pyplot as plt\n",
    "import plotly.plotly as py\n",
    "import plotly\n",
    "plotly.tools.set_credentials_file(username='CiroOlivieri', api_key='NLwpN0LWnVpN0aOWUAFK')\n",
    "\n",
    "%matplotlib inline\n",
    "plt.rcParams['figure.figsize'] = (16, 9)\n",
    "plt.style.use('ggplot')\n",
    "\n",
    "# Split\n",
    "from sklearn.model_selection import train_test_split \n",
    "\n",
    "# Métricas\n",
    "from sklearn import metrics\n",
    "from sklearn.metrics import f1_score\n",
    "from sklearn.metrics import recall_score\n",
    "from sklearn.metrics import precision_score\n",
    "from sklearn.metrics import accuracy_score\n",
    "from sklearn.metrics import classification_report, confusion_matrix, accuracy_score\n",
    "from sklearn.model_selection import cross_val_score\n",
    "from sklearn.model_selection import LeaveOneOut\n",
    "from sklearn.model_selection import KFold\n",
    "from sklearn.metrics import mean_squared_error, mean_absolute_error\n",
    "\n",
    "# Algoritmos para Regressão/Cluster/Classificação\n",
    "from sklearn import linear_model # Regressão Linear\n",
    "from sklearn.linear_model import Perceptron # Perceptron\n",
    "from sklearn.cluster import KMeans # Classificador KMeans\n",
    "from sklearn.cluster import DBSCAN # Cluster DBSCAN\n",
    "from sklearn.mixture import GaussianMixture # Gaussian Mixture Models\n",
    "from sklearn.naive_bayes import GaussianNB, BernoulliNB, MultinomialNB # Naive Bayes\n",
    "from sklearn.neighbors import KNeighborsClassifier # KNN\n",
    "from sklearn.linear_model import Lasso, ridge_regression # Regularizaçao\n",
    "from sklearn.tree import DecisionTreeRegressor, DecisionTreeClassifier, export_graphviz # Arvore de Decisão\n",
    "from scipy.cluster.hierarchy import dendrogram, linkage # Dendrograma\n",
    "from scipy.cluster.hierarchy import fcluster # Cluster\n",
    "from scipy.cluster.hierarchy import centroid # Centroide\n",
    "from sklearn.linear_model import LogisticRegression # Regressão Logistica\n",
    "from sklearn.ensemble import RandomForestClassifier, RandomForestRegressor # Random Forest\n",
    "from sklearn.svm import SVC\n",
    "from sklearn.model_selection import GridSearchCV\n",
    "\n",
    "# Ignorar mensagem de warning\n",
    "\n",
    "import warnings\n",
    "warnings.filterwarnings('ignore')"
   ]
  },
  {
   "cell_type": "markdown",
   "metadata": {},
   "source": [
    "### 2. Qualidade dos dados <a class=\"anchor\" id=\"2-bullet\"></a>"
   ]
  },
  {
   "cell_type": "markdown",
   "metadata": {},
   "source": [
    "Antes de carregar o dataset foi encontrado valores aberantes na variável alcohol ao todo foram 40 observações. Abaixo mostramos os valores encontrados e retirados da análises pois são valores que não condizem com o problema e nem com a variável em questão."
   ]
  },
  {
   "cell_type": "code",
   "execution_count": 43,
   "metadata": {},
   "outputs": [],
   "source": [
    "# Exemplos dos valores aberantes encontrados no dataset\n",
    "# 114.333.333.333.333\n",
    "# 105.333.333.333.333\n",
    "# 953.333.333.333.333\n",
    "# 109.333.333.333.333\n",
    "# 109.333.333.333.333\n",
    "# 113.666.666.666.667\n",
    "# 113.333.333.333.333\n",
    "# 110.666.666.666.667\n",
    "# 113.333.333.333.333\n",
    "# 973.333.333.333.333\n",
    "# 973.333.333.333.333\n",
    "# 113.333.333.333.333\n",
    "# 123.333.333.333.333\n",
    "# 112.666.666.666.667\n",
    "# 105.666.666.666.667\n",
    "# 117.333.333.333.333\n",
    "# 109.666.666.666.667\n",
    "# 109.666.666.666.667\n",
    "# 109.666.666.666.667\n",
    "# 101.333.333.333.333\n",
    "# 101.333.333.333.333\n"
   ]
  },
  {
   "cell_type": "code",
   "execution_count": 112,
   "metadata": {},
   "outputs": [
    {
     "data": {
      "text/html": [
       "<div>\n",
       "<style scoped>\n",
       "    .dataframe tbody tr th:only-of-type {\n",
       "        vertical-align: middle;\n",
       "    }\n",
       "\n",
       "    .dataframe tbody tr th {\n",
       "        vertical-align: top;\n",
       "    }\n",
       "\n",
       "    .dataframe thead th {\n",
       "        text-align: right;\n",
       "    }\n",
       "</style>\n",
       "<table border=\"1\" class=\"dataframe\">\n",
       "  <thead>\n",
       "    <tr style=\"text-align: right;\">\n",
       "      <th></th>\n",
       "      <th>type</th>\n",
       "      <th>fixed acidity</th>\n",
       "      <th>volatile acidity</th>\n",
       "      <th>citric acid</th>\n",
       "      <th>residual sugar</th>\n",
       "      <th>chlorides</th>\n",
       "      <th>free sulfur dioxide</th>\n",
       "      <th>total sulfur dioxide</th>\n",
       "      <th>density</th>\n",
       "      <th>pH</th>\n",
       "      <th>sulphates</th>\n",
       "      <th>alcohol</th>\n",
       "      <th>quality</th>\n",
       "    </tr>\n",
       "  </thead>\n",
       "  <tbody>\n",
       "    <tr>\n",
       "      <th>0</th>\n",
       "      <td>White</td>\n",
       "      <td>7.0</td>\n",
       "      <td>0.27</td>\n",
       "      <td>0.36</td>\n",
       "      <td>20.7</td>\n",
       "      <td>0.045</td>\n",
       "      <td>45.0</td>\n",
       "      <td>170.0</td>\n",
       "      <td>1.0010</td>\n",
       "      <td>3.00</td>\n",
       "      <td>0.45</td>\n",
       "      <td>8.8</td>\n",
       "      <td>6</td>\n",
       "    </tr>\n",
       "    <tr>\n",
       "      <th>1</th>\n",
       "      <td>White</td>\n",
       "      <td>6.3</td>\n",
       "      <td>0.30</td>\n",
       "      <td>0.34</td>\n",
       "      <td>1.6</td>\n",
       "      <td>0.049</td>\n",
       "      <td>14.0</td>\n",
       "      <td>132.0</td>\n",
       "      <td>0.9940</td>\n",
       "      <td>3.30</td>\n",
       "      <td>0.49</td>\n",
       "      <td>9.5</td>\n",
       "      <td>6</td>\n",
       "    </tr>\n",
       "    <tr>\n",
       "      <th>2</th>\n",
       "      <td>White</td>\n",
       "      <td>8.1</td>\n",
       "      <td>0.28</td>\n",
       "      <td>0.40</td>\n",
       "      <td>6.9</td>\n",
       "      <td>0.050</td>\n",
       "      <td>30.0</td>\n",
       "      <td>97.0</td>\n",
       "      <td>0.9951</td>\n",
       "      <td>3.26</td>\n",
       "      <td>0.44</td>\n",
       "      <td>10.1</td>\n",
       "      <td>6</td>\n",
       "    </tr>\n",
       "    <tr>\n",
       "      <th>3</th>\n",
       "      <td>White</td>\n",
       "      <td>7.2</td>\n",
       "      <td>0.23</td>\n",
       "      <td>0.32</td>\n",
       "      <td>8.5</td>\n",
       "      <td>0.058</td>\n",
       "      <td>47.0</td>\n",
       "      <td>186.0</td>\n",
       "      <td>0.9956</td>\n",
       "      <td>3.19</td>\n",
       "      <td>0.40</td>\n",
       "      <td>9.9</td>\n",
       "      <td>6</td>\n",
       "    </tr>\n",
       "    <tr>\n",
       "      <th>4</th>\n",
       "      <td>White</td>\n",
       "      <td>7.2</td>\n",
       "      <td>0.23</td>\n",
       "      <td>0.32</td>\n",
       "      <td>8.5</td>\n",
       "      <td>0.058</td>\n",
       "      <td>47.0</td>\n",
       "      <td>186.0</td>\n",
       "      <td>0.9956</td>\n",
       "      <td>3.19</td>\n",
       "      <td>0.40</td>\n",
       "      <td>9.9</td>\n",
       "      <td>6</td>\n",
       "    </tr>\n",
       "    <tr>\n",
       "      <th>5</th>\n",
       "      <td>White</td>\n",
       "      <td>8.1</td>\n",
       "      <td>0.28</td>\n",
       "      <td>0.40</td>\n",
       "      <td>6.9</td>\n",
       "      <td>0.050</td>\n",
       "      <td>30.0</td>\n",
       "      <td>97.0</td>\n",
       "      <td>0.9951</td>\n",
       "      <td>3.26</td>\n",
       "      <td>0.44</td>\n",
       "      <td>10.1</td>\n",
       "      <td>6</td>\n",
       "    </tr>\n",
       "    <tr>\n",
       "      <th>6</th>\n",
       "      <td>White</td>\n",
       "      <td>6.2</td>\n",
       "      <td>0.32</td>\n",
       "      <td>0.16</td>\n",
       "      <td>7.0</td>\n",
       "      <td>0.045</td>\n",
       "      <td>30.0</td>\n",
       "      <td>136.0</td>\n",
       "      <td>0.9949</td>\n",
       "      <td>3.18</td>\n",
       "      <td>0.47</td>\n",
       "      <td>9.6</td>\n",
       "      <td>6</td>\n",
       "    </tr>\n",
       "    <tr>\n",
       "      <th>7</th>\n",
       "      <td>White</td>\n",
       "      <td>7.0</td>\n",
       "      <td>0.27</td>\n",
       "      <td>0.36</td>\n",
       "      <td>20.7</td>\n",
       "      <td>0.045</td>\n",
       "      <td>45.0</td>\n",
       "      <td>170.0</td>\n",
       "      <td>1.0010</td>\n",
       "      <td>3.00</td>\n",
       "      <td>0.45</td>\n",
       "      <td>8.8</td>\n",
       "      <td>6</td>\n",
       "    </tr>\n",
       "    <tr>\n",
       "      <th>8</th>\n",
       "      <td>White</td>\n",
       "      <td>6.3</td>\n",
       "      <td>0.30</td>\n",
       "      <td>0.34</td>\n",
       "      <td>1.6</td>\n",
       "      <td>0.049</td>\n",
       "      <td>14.0</td>\n",
       "      <td>132.0</td>\n",
       "      <td>0.9940</td>\n",
       "      <td>3.30</td>\n",
       "      <td>0.49</td>\n",
       "      <td>9.5</td>\n",
       "      <td>6</td>\n",
       "    </tr>\n",
       "    <tr>\n",
       "      <th>9</th>\n",
       "      <td>White</td>\n",
       "      <td>8.1</td>\n",
       "      <td>0.22</td>\n",
       "      <td>0.43</td>\n",
       "      <td>1.5</td>\n",
       "      <td>0.044</td>\n",
       "      <td>28.0</td>\n",
       "      <td>129.0</td>\n",
       "      <td>0.9938</td>\n",
       "      <td>3.22</td>\n",
       "      <td>0.45</td>\n",
       "      <td>11.0</td>\n",
       "      <td>6</td>\n",
       "    </tr>\n",
       "  </tbody>\n",
       "</table>\n",
       "</div>"
      ],
      "text/plain": [
       "    type  fixed acidity  volatile acidity  citric acid  residual sugar  \\\n",
       "0  White            7.0              0.27         0.36            20.7   \n",
       "1  White            6.3              0.30         0.34             1.6   \n",
       "2  White            8.1              0.28         0.40             6.9   \n",
       "3  White            7.2              0.23         0.32             8.5   \n",
       "4  White            7.2              0.23         0.32             8.5   \n",
       "5  White            8.1              0.28         0.40             6.9   \n",
       "6  White            6.2              0.32         0.16             7.0   \n",
       "7  White            7.0              0.27         0.36            20.7   \n",
       "8  White            6.3              0.30         0.34             1.6   \n",
       "9  White            8.1              0.22         0.43             1.5   \n",
       "\n",
       "   chlorides  free sulfur dioxide  total sulfur dioxide  density    pH  \\\n",
       "0      0.045                 45.0                 170.0   1.0010  3.00   \n",
       "1      0.049                 14.0                 132.0   0.9940  3.30   \n",
       "2      0.050                 30.0                  97.0   0.9951  3.26   \n",
       "3      0.058                 47.0                 186.0   0.9956  3.19   \n",
       "4      0.058                 47.0                 186.0   0.9956  3.19   \n",
       "5      0.050                 30.0                  97.0   0.9951  3.26   \n",
       "6      0.045                 30.0                 136.0   0.9949  3.18   \n",
       "7      0.045                 45.0                 170.0   1.0010  3.00   \n",
       "8      0.049                 14.0                 132.0   0.9940  3.30   \n",
       "9      0.044                 28.0                 129.0   0.9938  3.22   \n",
       "\n",
       "   sulphates  alcohol  quality  \n",
       "0       0.45      8.8        6  \n",
       "1       0.49      9.5        6  \n",
       "2       0.44     10.1        6  \n",
       "3       0.40      9.9        6  \n",
       "4       0.40      9.9        6  \n",
       "5       0.44     10.1        6  \n",
       "6       0.47      9.6        6  \n",
       "7       0.45      8.8        6  \n",
       "8       0.49      9.5        6  \n",
       "9       0.45     11.0        6  "
      ]
     },
     "execution_count": 112,
     "metadata": {},
     "output_type": "execute_result"
    }
   ],
   "source": [
    "### Leitura do dataset\n",
    "df = pd.read_csv('winequality1.csv', sep = \";\")\n",
    "df.head(10) # visualização do dataset"
   ]
  },
  {
   "cell_type": "code",
   "execution_count": 3,
   "metadata": {},
   "outputs": [
    {
     "name": "stdout",
     "output_type": "stream",
     "text": [
      "Nome das colunas: ['type', 'fixed acidity', 'volatile acidity', 'citric acid', 'residual sugar', 'chlorides', 'free sulfur dioxide', 'total sulfur dioxide', 'density', 'pH', 'sulphates', 'alcohol', 'quality']\n"
     ]
    }
   ],
   "source": [
    "# Nome das colunas\n",
    "print(\"Nome das colunas: {s}\".format(s = list(df)))"
   ]
  },
  {
   "cell_type": "code",
   "execution_count": 5,
   "metadata": {
    "scrolled": false
   },
   "outputs": [
    {
     "name": "stdout",
     "output_type": "stream",
     "text": [
      "<class 'pandas.core.frame.DataFrame'>\n",
      "RangeIndex: 6457 entries, 0 to 6456\n",
      "Data columns (total 13 columns):\n",
      "type                    6457 non-null object\n",
      "fixed acidity           6457 non-null float64\n",
      "volatile acidity        6457 non-null float64\n",
      "citric acid             6457 non-null float64\n",
      "residual sugar          6457 non-null float64\n",
      "chlorides               6457 non-null float64\n",
      "free sulfur dioxide     6457 non-null float64\n",
      "total sulfur dioxide    6457 non-null float64\n",
      "density                 6457 non-null float64\n",
      "pH                      6457 non-null float64\n",
      "sulphates               6457 non-null float64\n",
      "alcohol                 6457 non-null float64\n",
      "quality                 6457 non-null int64\n",
      "dtypes: float64(11), int64(1), object(1)\n",
      "memory usage: 655.9+ KB\n"
     ]
    }
   ],
   "source": [
    "# Infomações sobre o dataset\n",
    "df.info()"
   ]
  },
  {
   "cell_type": "code",
   "execution_count": 4,
   "metadata": {},
   "outputs": [
    {
     "name": "stdout",
     "output_type": "stream",
     "text": [
      "O dataset tem 6457 observações e 13 colunas.\n"
     ]
    }
   ],
   "source": [
    "print(\"O dataset tem {:.0f} observações e {:.0f} colunas.\".format(df.shape[0], df.shape[1]))"
   ]
  },
  {
   "cell_type": "code",
   "execution_count": 5,
   "metadata": {},
   "outputs": [
    {
     "data": {
      "text/plain": [
       "type                    0\n",
       "fixed acidity           0\n",
       "volatile acidity        0\n",
       "citric acid             0\n",
       "residual sugar          0\n",
       "chlorides               0\n",
       "free sulfur dioxide     0\n",
       "total sulfur dioxide    0\n",
       "density                 0\n",
       "pH                      0\n",
       "sulphates               0\n",
       "alcohol                 0\n",
       "quality                 0\n",
       "dtype: int64"
      ]
     },
     "execution_count": 5,
     "metadata": {},
     "output_type": "execute_result"
    }
   ],
   "source": [
    "# Verificar se existe valor missing nas variáveis\n",
    "df.isnull().sum()"
   ]
  },
  {
   "cell_type": "markdown",
   "metadata": {},
   "source": [
    "Nenhuma variável do conjunto de dados apresentou observações missing."
   ]
  },
  {
   "cell_type": "code",
   "execution_count": 6,
   "metadata": {},
   "outputs": [
    {
     "name": "stdout",
     "output_type": "stream",
     "text": [
      "O dataset tem 1169 observações duplicadas.\n"
     ]
    }
   ],
   "source": [
    "# Verificar se existe duplicidade no dataset\n",
    "extra = df[df.duplicated()]\n",
    "print(\"O dataset tem {:.0f} observações duplicadas.\".format(extra.shape[0]))"
   ]
  },
  {
   "cell_type": "markdown",
   "metadata": {},
   "source": [
    "Duas hipóteses giram em torno dessas duplicações: i) São os mesmos vinhos com iguais medidas e assim repetidas; e ii) Podem ser que tenham o mesmo valor, mas venham de testadores diferentes.\n",
    "\n",
    "Vamos considerar a hipótese i) como verdadeira pois não temos evidências que os dados foram recolhidos de por testadores diferentes para um mesmo vinho, mas sim que cada observação é uma marca de vinho diferente."
   ]
  },
  {
   "cell_type": "code",
   "execution_count": 7,
   "metadata": {},
   "outputs": [
    {
     "data": {
      "text/plain": [
       "type\n",
       "Red      239\n",
       "White    930\n",
       "Name: type, dtype: int64"
      ]
     },
     "execution_count": 7,
     "metadata": {},
     "output_type": "execute_result"
    }
   ],
   "source": [
    "extra.groupby('type')['type'].count() "
   ]
  },
  {
   "cell_type": "code",
   "execution_count": 8,
   "metadata": {},
   "outputs": [],
   "source": [
    "# Retirar as informações duplicadas\n",
    "wine = df.drop_duplicates()"
   ]
  },
  {
   "cell_type": "code",
   "execution_count": 9,
   "metadata": {},
   "outputs": [
    {
     "name": "stdout",
     "output_type": "stream",
     "text": [
      "O dataset (sem duplicidade) tem 5288 observações e 13 colunas.\n"
     ]
    },
    {
     "data": {
      "text/html": [
       "<div>\n",
       "<style scoped>\n",
       "    .dataframe tbody tr th:only-of-type {\n",
       "        vertical-align: middle;\n",
       "    }\n",
       "\n",
       "    .dataframe tbody tr th {\n",
       "        vertical-align: top;\n",
       "    }\n",
       "\n",
       "    .dataframe thead th {\n",
       "        text-align: right;\n",
       "    }\n",
       "</style>\n",
       "<table border=\"1\" class=\"dataframe\">\n",
       "  <thead>\n",
       "    <tr style=\"text-align: right;\">\n",
       "      <th></th>\n",
       "      <th>type</th>\n",
       "      <th>fixed acidity</th>\n",
       "      <th>volatile acidity</th>\n",
       "      <th>citric acid</th>\n",
       "      <th>residual sugar</th>\n",
       "      <th>chlorides</th>\n",
       "      <th>free sulfur dioxide</th>\n",
       "      <th>total sulfur dioxide</th>\n",
       "      <th>density</th>\n",
       "      <th>pH</th>\n",
       "      <th>sulphates</th>\n",
       "      <th>alcohol</th>\n",
       "      <th>quality</th>\n",
       "    </tr>\n",
       "  </thead>\n",
       "  <tbody>\n",
       "    <tr>\n",
       "      <th>0</th>\n",
       "      <td>White</td>\n",
       "      <td>7.0</td>\n",
       "      <td>0.27</td>\n",
       "      <td>0.36</td>\n",
       "      <td>20.7</td>\n",
       "      <td>0.045</td>\n",
       "      <td>45.0</td>\n",
       "      <td>170.0</td>\n",
       "      <td>1.0010</td>\n",
       "      <td>3.00</td>\n",
       "      <td>0.45</td>\n",
       "      <td>8.8</td>\n",
       "      <td>6</td>\n",
       "    </tr>\n",
       "    <tr>\n",
       "      <th>1</th>\n",
       "      <td>White</td>\n",
       "      <td>6.3</td>\n",
       "      <td>0.30</td>\n",
       "      <td>0.34</td>\n",
       "      <td>1.6</td>\n",
       "      <td>0.049</td>\n",
       "      <td>14.0</td>\n",
       "      <td>132.0</td>\n",
       "      <td>0.9940</td>\n",
       "      <td>3.30</td>\n",
       "      <td>0.49</td>\n",
       "      <td>9.5</td>\n",
       "      <td>6</td>\n",
       "    </tr>\n",
       "    <tr>\n",
       "      <th>2</th>\n",
       "      <td>White</td>\n",
       "      <td>8.1</td>\n",
       "      <td>0.28</td>\n",
       "      <td>0.40</td>\n",
       "      <td>6.9</td>\n",
       "      <td>0.050</td>\n",
       "      <td>30.0</td>\n",
       "      <td>97.0</td>\n",
       "      <td>0.9951</td>\n",
       "      <td>3.26</td>\n",
       "      <td>0.44</td>\n",
       "      <td>10.1</td>\n",
       "      <td>6</td>\n",
       "    </tr>\n",
       "    <tr>\n",
       "      <th>3</th>\n",
       "      <td>White</td>\n",
       "      <td>7.2</td>\n",
       "      <td>0.23</td>\n",
       "      <td>0.32</td>\n",
       "      <td>8.5</td>\n",
       "      <td>0.058</td>\n",
       "      <td>47.0</td>\n",
       "      <td>186.0</td>\n",
       "      <td>0.9956</td>\n",
       "      <td>3.19</td>\n",
       "      <td>0.40</td>\n",
       "      <td>9.9</td>\n",
       "      <td>6</td>\n",
       "    </tr>\n",
       "    <tr>\n",
       "      <th>6</th>\n",
       "      <td>White</td>\n",
       "      <td>6.2</td>\n",
       "      <td>0.32</td>\n",
       "      <td>0.16</td>\n",
       "      <td>7.0</td>\n",
       "      <td>0.045</td>\n",
       "      <td>30.0</td>\n",
       "      <td>136.0</td>\n",
       "      <td>0.9949</td>\n",
       "      <td>3.18</td>\n",
       "      <td>0.47</td>\n",
       "      <td>9.6</td>\n",
       "      <td>6</td>\n",
       "    </tr>\n",
       "  </tbody>\n",
       "</table>\n",
       "</div>"
      ],
      "text/plain": [
       "    type  fixed acidity  volatile acidity  citric acid  residual sugar  \\\n",
       "0  White            7.0              0.27         0.36            20.7   \n",
       "1  White            6.3              0.30         0.34             1.6   \n",
       "2  White            8.1              0.28         0.40             6.9   \n",
       "3  White            7.2              0.23         0.32             8.5   \n",
       "6  White            6.2              0.32         0.16             7.0   \n",
       "\n",
       "   chlorides  free sulfur dioxide  total sulfur dioxide  density    pH  \\\n",
       "0      0.045                 45.0                 170.0   1.0010  3.00   \n",
       "1      0.049                 14.0                 132.0   0.9940  3.30   \n",
       "2      0.050                 30.0                  97.0   0.9951  3.26   \n",
       "3      0.058                 47.0                 186.0   0.9956  3.19   \n",
       "6      0.045                 30.0                 136.0   0.9949  3.18   \n",
       "\n",
       "   sulphates  alcohol  quality  \n",
       "0       0.45      8.8        6  \n",
       "1       0.49      9.5        6  \n",
       "2       0.44     10.1        6  \n",
       "3       0.40      9.9        6  \n",
       "6       0.47      9.6        6  "
      ]
     },
     "execution_count": 9,
     "metadata": {},
     "output_type": "execute_result"
    }
   ],
   "source": [
    "print(\"O dataset (sem duplicidade) tem {:.0f} observações e {:.0f} colunas.\".format(wine.shape[0], wine.shape[1]))\n",
    "\n",
    "wine.head()"
   ]
  },
  {
   "cell_type": "code",
   "execution_count": 10,
   "metadata": {},
   "outputs": [
    {
     "data": {
      "text/html": [
       "<div>\n",
       "<style scoped>\n",
       "    .dataframe tbody tr th:only-of-type {\n",
       "        vertical-align: middle;\n",
       "    }\n",
       "\n",
       "    .dataframe tbody tr th {\n",
       "        vertical-align: top;\n",
       "    }\n",
       "\n",
       "    .dataframe thead th {\n",
       "        text-align: right;\n",
       "    }\n",
       "</style>\n",
       "<table border=\"1\" class=\"dataframe\">\n",
       "  <thead>\n",
       "    <tr style=\"text-align: right;\">\n",
       "      <th></th>\n",
       "      <th>fixed acidity</th>\n",
       "      <th>volatile acidity</th>\n",
       "      <th>citric acid</th>\n",
       "      <th>residual sugar</th>\n",
       "      <th>chlorides</th>\n",
       "      <th>free sulfur dioxide</th>\n",
       "      <th>total sulfur dioxide</th>\n",
       "      <th>density</th>\n",
       "      <th>pH</th>\n",
       "      <th>sulphates</th>\n",
       "      <th>alcohol</th>\n",
       "      <th>quality</th>\n",
       "      <th>type_Red</th>\n",
       "      <th>type_White</th>\n",
       "    </tr>\n",
       "  </thead>\n",
       "  <tbody>\n",
       "    <tr>\n",
       "      <th>0</th>\n",
       "      <td>7.0</td>\n",
       "      <td>0.27</td>\n",
       "      <td>0.36</td>\n",
       "      <td>20.7</td>\n",
       "      <td>0.045</td>\n",
       "      <td>45.0</td>\n",
       "      <td>170.0</td>\n",
       "      <td>1.0010</td>\n",
       "      <td>3.00</td>\n",
       "      <td>0.45</td>\n",
       "      <td>8.8</td>\n",
       "      <td>6</td>\n",
       "      <td>0</td>\n",
       "      <td>1</td>\n",
       "    </tr>\n",
       "    <tr>\n",
       "      <th>1</th>\n",
       "      <td>6.3</td>\n",
       "      <td>0.30</td>\n",
       "      <td>0.34</td>\n",
       "      <td>1.6</td>\n",
       "      <td>0.049</td>\n",
       "      <td>14.0</td>\n",
       "      <td>132.0</td>\n",
       "      <td>0.9940</td>\n",
       "      <td>3.30</td>\n",
       "      <td>0.49</td>\n",
       "      <td>9.5</td>\n",
       "      <td>6</td>\n",
       "      <td>0</td>\n",
       "      <td>1</td>\n",
       "    </tr>\n",
       "    <tr>\n",
       "      <th>2</th>\n",
       "      <td>8.1</td>\n",
       "      <td>0.28</td>\n",
       "      <td>0.40</td>\n",
       "      <td>6.9</td>\n",
       "      <td>0.050</td>\n",
       "      <td>30.0</td>\n",
       "      <td>97.0</td>\n",
       "      <td>0.9951</td>\n",
       "      <td>3.26</td>\n",
       "      <td>0.44</td>\n",
       "      <td>10.1</td>\n",
       "      <td>6</td>\n",
       "      <td>0</td>\n",
       "      <td>1</td>\n",
       "    </tr>\n",
       "    <tr>\n",
       "      <th>3</th>\n",
       "      <td>7.2</td>\n",
       "      <td>0.23</td>\n",
       "      <td>0.32</td>\n",
       "      <td>8.5</td>\n",
       "      <td>0.058</td>\n",
       "      <td>47.0</td>\n",
       "      <td>186.0</td>\n",
       "      <td>0.9956</td>\n",
       "      <td>3.19</td>\n",
       "      <td>0.40</td>\n",
       "      <td>9.9</td>\n",
       "      <td>6</td>\n",
       "      <td>0</td>\n",
       "      <td>1</td>\n",
       "    </tr>\n",
       "    <tr>\n",
       "      <th>6</th>\n",
       "      <td>6.2</td>\n",
       "      <td>0.32</td>\n",
       "      <td>0.16</td>\n",
       "      <td>7.0</td>\n",
       "      <td>0.045</td>\n",
       "      <td>30.0</td>\n",
       "      <td>136.0</td>\n",
       "      <td>0.9949</td>\n",
       "      <td>3.18</td>\n",
       "      <td>0.47</td>\n",
       "      <td>9.6</td>\n",
       "      <td>6</td>\n",
       "      <td>0</td>\n",
       "      <td>1</td>\n",
       "    </tr>\n",
       "  </tbody>\n",
       "</table>\n",
       "</div>"
      ],
      "text/plain": [
       "   fixed acidity  volatile acidity  citric acid  residual sugar  chlorides  \\\n",
       "0            7.0              0.27         0.36            20.7      0.045   \n",
       "1            6.3              0.30         0.34             1.6      0.049   \n",
       "2            8.1              0.28         0.40             6.9      0.050   \n",
       "3            7.2              0.23         0.32             8.5      0.058   \n",
       "6            6.2              0.32         0.16             7.0      0.045   \n",
       "\n",
       "   free sulfur dioxide  total sulfur dioxide  density    pH  sulphates  \\\n",
       "0                 45.0                 170.0   1.0010  3.00       0.45   \n",
       "1                 14.0                 132.0   0.9940  3.30       0.49   \n",
       "2                 30.0                  97.0   0.9951  3.26       0.44   \n",
       "3                 47.0                 186.0   0.9956  3.19       0.40   \n",
       "6                 30.0                 136.0   0.9949  3.18       0.47   \n",
       "\n",
       "   alcohol  quality  type_Red  type_White  \n",
       "0      8.8        6         0           1  \n",
       "1      9.5        6         0           1  \n",
       "2     10.1        6         0           1  \n",
       "3      9.9        6         0           1  \n",
       "6      9.6        6         0           1  "
      ]
     },
     "execution_count": 10,
     "metadata": {},
     "output_type": "execute_result"
    }
   ],
   "source": [
    "# Criar uma variável dummy para o tipo de vinho (1º alternativa). Poderiamos ter modelado separadamente a qualidade do vinho para cada tipo (2º alternativa)\n",
    "df = pd.get_dummies(wine, columns=['type'])\n",
    "df.head()"
   ]
  },
  {
   "cell_type": "code",
   "execution_count": 11,
   "metadata": {},
   "outputs": [
    {
     "name": "stdout",
     "output_type": "stream",
     "text": [
      "Nome das colunas: ['fixed acidity', 'volatile acidity', 'citric acid', 'residual sugar', 'chlorides', 'free sulfur dioxide', 'total sulfur dioxide', 'density', 'pH', 'sulphates', 'alcohol', 'quality', 'type_Red', 'type_White']\n"
     ]
    }
   ],
   "source": [
    "print(\"Nome das colunas: {s}\".format(s = list(df)))"
   ]
  },
  {
   "cell_type": "code",
   "execution_count": 12,
   "metadata": {},
   "outputs": [
    {
     "name": "stdout",
     "output_type": "stream",
     "text": [
      "<class 'pandas.core.frame.DataFrame'>\n",
      "Int64Index: 5288 entries, 0 to 6456\n",
      "Data columns (total 14 columns):\n",
      "fixed acidity           5288 non-null float64\n",
      "volatile acidity        5288 non-null float64\n",
      "citric acid             5288 non-null float64\n",
      "residual sugar          5288 non-null float64\n",
      "chlorides               5288 non-null float64\n",
      "free sulfur dioxide     5288 non-null float64\n",
      "total sulfur dioxide    5288 non-null float64\n",
      "density                 5288 non-null float64\n",
      "pH                      5288 non-null float64\n",
      "sulphates               5288 non-null float64\n",
      "alcohol                 5288 non-null float64\n",
      "quality                 5288 non-null int64\n",
      "type_Red                5288 non-null uint8\n",
      "type_White              5288 non-null uint8\n",
      "dtypes: float64(11), int64(1), uint8(2)\n",
      "memory usage: 547.4 KB\n"
     ]
    }
   ],
   "source": [
    "df.info()"
   ]
  },
  {
   "cell_type": "markdown",
   "metadata": {},
   "source": [
    "### 3. Análise Exploratória <a class=\"anchor\" id=\"3-bullet\"></a>"
   ]
  },
  {
   "cell_type": "code",
   "execution_count": 13,
   "metadata": {},
   "outputs": [
    {
     "data": {
      "text/html": [
       "<div>\n",
       "<style scoped>\n",
       "    .dataframe tbody tr th:only-of-type {\n",
       "        vertical-align: middle;\n",
       "    }\n",
       "\n",
       "    .dataframe tbody tr th {\n",
       "        vertical-align: top;\n",
       "    }\n",
       "\n",
       "    .dataframe thead th {\n",
       "        text-align: right;\n",
       "    }\n",
       "</style>\n",
       "<table border=\"1\" class=\"dataframe\">\n",
       "  <thead>\n",
       "    <tr style=\"text-align: right;\">\n",
       "      <th></th>\n",
       "      <th>fixed acidity</th>\n",
       "      <th>volatile acidity</th>\n",
       "      <th>citric acid</th>\n",
       "      <th>residual sugar</th>\n",
       "      <th>chlorides</th>\n",
       "      <th>free sulfur dioxide</th>\n",
       "      <th>total sulfur dioxide</th>\n",
       "      <th>density</th>\n",
       "      <th>pH</th>\n",
       "      <th>sulphates</th>\n",
       "      <th>alcohol</th>\n",
       "      <th>quality</th>\n",
       "      <th>type_Red</th>\n",
       "      <th>type_White</th>\n",
       "    </tr>\n",
       "  </thead>\n",
       "  <tbody>\n",
       "    <tr>\n",
       "      <th>count</th>\n",
       "      <td>5288.000000</td>\n",
       "      <td>5288.000000</td>\n",
       "      <td>5288.000000</td>\n",
       "      <td>5288.000000</td>\n",
       "      <td>5288.000000</td>\n",
       "      <td>5288.000000</td>\n",
       "      <td>5288.000000</td>\n",
       "      <td>5288.000000</td>\n",
       "      <td>5288.000000</td>\n",
       "      <td>5288.000000</td>\n",
       "      <td>5288.000000</td>\n",
       "      <td>5288.000000</td>\n",
       "      <td>5288.000000</td>\n",
       "      <td>5288.000000</td>\n",
       "    </tr>\n",
       "    <tr>\n",
       "      <th>mean</th>\n",
       "      <td>7.219696</td>\n",
       "      <td>0.344149</td>\n",
       "      <td>0.318678</td>\n",
       "      <td>5.050662</td>\n",
       "      <td>0.056739</td>\n",
       "      <td>30.018154</td>\n",
       "      <td>114.042549</td>\n",
       "      <td>1.678458</td>\n",
       "      <td>3.224707</td>\n",
       "      <td>0.533264</td>\n",
       "      <td>10.546874</td>\n",
       "      <td>5.794629</td>\n",
       "      <td>0.256051</td>\n",
       "      <td>0.743949</td>\n",
       "    </tr>\n",
       "    <tr>\n",
       "      <th>std</th>\n",
       "      <td>1.319125</td>\n",
       "      <td>0.168253</td>\n",
       "      <td>0.147339</td>\n",
       "      <td>4.506067</td>\n",
       "      <td>0.036944</td>\n",
       "      <td>17.825880</td>\n",
       "      <td>56.849174</td>\n",
       "      <td>7.517368</td>\n",
       "      <td>0.160434</td>\n",
       "      <td>0.149795</td>\n",
       "      <td>1.186073</td>\n",
       "      <td>0.880721</td>\n",
       "      <td>0.436492</td>\n",
       "      <td>0.436492</td>\n",
       "    </tr>\n",
       "    <tr>\n",
       "      <th>min</th>\n",
       "      <td>3.800000</td>\n",
       "      <td>0.080000</td>\n",
       "      <td>0.000000</td>\n",
       "      <td>0.600000</td>\n",
       "      <td>0.009000</td>\n",
       "      <td>1.000000</td>\n",
       "      <td>6.000000</td>\n",
       "      <td>0.987110</td>\n",
       "      <td>2.720000</td>\n",
       "      <td>0.220000</td>\n",
       "      <td>8.000000</td>\n",
       "      <td>3.000000</td>\n",
       "      <td>0.000000</td>\n",
       "      <td>0.000000</td>\n",
       "    </tr>\n",
       "    <tr>\n",
       "      <th>25%</th>\n",
       "      <td>6.400000</td>\n",
       "      <td>0.230000</td>\n",
       "      <td>0.240000</td>\n",
       "      <td>1.800000</td>\n",
       "      <td>0.038000</td>\n",
       "      <td>16.000000</td>\n",
       "      <td>74.000000</td>\n",
       "      <td>0.992200</td>\n",
       "      <td>3.117500</td>\n",
       "      <td>0.430000</td>\n",
       "      <td>9.500000</td>\n",
       "      <td>5.000000</td>\n",
       "      <td>0.000000</td>\n",
       "      <td>0.000000</td>\n",
       "    </tr>\n",
       "    <tr>\n",
       "      <th>50%</th>\n",
       "      <td>7.000000</td>\n",
       "      <td>0.300000</td>\n",
       "      <td>0.310000</td>\n",
       "      <td>2.700000</td>\n",
       "      <td>0.047000</td>\n",
       "      <td>28.000000</td>\n",
       "      <td>116.000000</td>\n",
       "      <td>0.994695</td>\n",
       "      <td>3.210000</td>\n",
       "      <td>0.510000</td>\n",
       "      <td>10.400000</td>\n",
       "      <td>6.000000</td>\n",
       "      <td>0.000000</td>\n",
       "      <td>1.000000</td>\n",
       "    </tr>\n",
       "    <tr>\n",
       "      <th>75%</th>\n",
       "      <td>7.700000</td>\n",
       "      <td>0.410000</td>\n",
       "      <td>0.400000</td>\n",
       "      <td>7.500000</td>\n",
       "      <td>0.066000</td>\n",
       "      <td>41.000000</td>\n",
       "      <td>153.000000</td>\n",
       "      <td>0.996782</td>\n",
       "      <td>3.330000</td>\n",
       "      <td>0.600000</td>\n",
       "      <td>11.400000</td>\n",
       "      <td>6.000000</td>\n",
       "      <td>1.000000</td>\n",
       "      <td>1.000000</td>\n",
       "    </tr>\n",
       "    <tr>\n",
       "      <th>max</th>\n",
       "      <td>15.900000</td>\n",
       "      <td>1.580000</td>\n",
       "      <td>1.660000</td>\n",
       "      <td>65.800000</td>\n",
       "      <td>0.611000</td>\n",
       "      <td>289.000000</td>\n",
       "      <td>440.000000</td>\n",
       "      <td>103.898000</td>\n",
       "      <td>4.010000</td>\n",
       "      <td>2.000000</td>\n",
       "      <td>14.900000</td>\n",
       "      <td>9.000000</td>\n",
       "      <td>1.000000</td>\n",
       "      <td>1.000000</td>\n",
       "    </tr>\n",
       "  </tbody>\n",
       "</table>\n",
       "</div>"
      ],
      "text/plain": [
       "       fixed acidity  volatile acidity  citric acid  residual sugar  \\\n",
       "count    5288.000000       5288.000000  5288.000000     5288.000000   \n",
       "mean        7.219696          0.344149     0.318678        5.050662   \n",
       "std         1.319125          0.168253     0.147339        4.506067   \n",
       "min         3.800000          0.080000     0.000000        0.600000   \n",
       "25%         6.400000          0.230000     0.240000        1.800000   \n",
       "50%         7.000000          0.300000     0.310000        2.700000   \n",
       "75%         7.700000          0.410000     0.400000        7.500000   \n",
       "max        15.900000          1.580000     1.660000       65.800000   \n",
       "\n",
       "         chlorides  free sulfur dioxide  total sulfur dioxide      density  \\\n",
       "count  5288.000000          5288.000000           5288.000000  5288.000000   \n",
       "mean      0.056739            30.018154            114.042549     1.678458   \n",
       "std       0.036944            17.825880             56.849174     7.517368   \n",
       "min       0.009000             1.000000              6.000000     0.987110   \n",
       "25%       0.038000            16.000000             74.000000     0.992200   \n",
       "50%       0.047000            28.000000            116.000000     0.994695   \n",
       "75%       0.066000            41.000000            153.000000     0.996782   \n",
       "max       0.611000           289.000000            440.000000   103.898000   \n",
       "\n",
       "                pH    sulphates      alcohol      quality     type_Red  \\\n",
       "count  5288.000000  5288.000000  5288.000000  5288.000000  5288.000000   \n",
       "mean      3.224707     0.533264    10.546874     5.794629     0.256051   \n",
       "std       0.160434     0.149795     1.186073     0.880721     0.436492   \n",
       "min       2.720000     0.220000     8.000000     3.000000     0.000000   \n",
       "25%       3.117500     0.430000     9.500000     5.000000     0.000000   \n",
       "50%       3.210000     0.510000    10.400000     6.000000     0.000000   \n",
       "75%       3.330000     0.600000    11.400000     6.000000     1.000000   \n",
       "max       4.010000     2.000000    14.900000     9.000000     1.000000   \n",
       "\n",
       "        type_White  \n",
       "count  5288.000000  \n",
       "mean      0.743949  \n",
       "std       0.436492  \n",
       "min       0.000000  \n",
       "25%       0.000000  \n",
       "50%       1.000000  \n",
       "75%       1.000000  \n",
       "max       1.000000  "
      ]
     },
     "execution_count": 13,
     "metadata": {},
     "output_type": "execute_result"
    }
   ],
   "source": [
    "# Estatísticas básicas das variáveis continuas\n",
    "df.describe()"
   ]
  },
  {
   "cell_type": "markdown",
   "metadata": {},
   "source": [
    "O dataset não apresentou visivelmente nenhuma anormalidade ou valores negativos."
   ]
  },
  {
   "cell_type": "code",
   "execution_count": 13,
   "metadata": {},
   "outputs": [
    {
     "data": {
      "image/png": "[encoded data removed]",
      "text/plain": [
       "<Figure size 576x432 with 1 Axes>"
      ]
     },
     "metadata": {
      "needs_background": "light"
     },
     "output_type": "display_data"
    }
   ],
   "source": [
    "# Variável Resposta : Quality \n",
    "plt.figure(figsize=(8,6))\n",
    "stat = df.groupby('quality')['quality'].agg(lambda x : float(len(x))/df.shape[0])\n",
    "stat.plot(kind='bar', fontsize=14, width=0.9, color=\"blue\")\n",
    "plt.xticks(rotation=0)\n",
    "plt.ylabel('Proporção', fontsize=14)\n",
    "plt.xlabel('Qualidade', fontsize=14)\n",
    "plt.show()"
   ]
  },
  {
   "cell_type": "markdown",
   "metadata": {},
   "source": [
    "Podemos observar que o score de qualidade varia de 3 a 9 (não atingindo, pelo menos nessa amostra, os valores 0,1,2 ou 10. Devido a algumas classe apresentarem pouca representatividade (por exemplo, classe 3 e 9) desejamos criar menos classes para realizar a previsão da qualidade do vinho."
   ]
  },
  {
   "cell_type": "code",
   "execution_count": 15,
   "metadata": {},
   "outputs": [
    {
     "data": {
      "text/plain": [
       "6    2306\n",
       "5    1744\n",
       "7     849\n",
       "4     206\n",
       "8     148\n",
       "3      30\n",
       "9       5\n",
       "Name: quality, dtype: int64"
      ]
     },
     "execution_count": 15,
     "metadata": {},
     "output_type": "execute_result"
    }
   ],
   "source": [
    "# Contagem\n",
    "df['quality'].value_counts()"
   ]
  },
  {
   "cell_type": "markdown",
   "metadata": {},
   "source": [
    "**Correlação entre as variaveis**"
   ]
  },
  {
   "cell_type": "code",
   "execution_count": 67,
   "metadata": {},
   "outputs": [
    {
     "data": {
      "image/png": "[encoded data removed]",
      "text/plain": [
       "<Figure size 864x360 with 2 Axes>"
      ]
     },
     "metadata": {
      "needs_background": "light"
     },
     "output_type": "display_data"
    }
   ],
   "source": [
    "# Correlação entre as variáveis\n",
    "correlation = df.corr()\n",
    "plt.figure(figsize=(12, 5))\n",
    "sns.heatmap(correlation, annot=True, linewidths=0, vmin=-1, cmap=\"RdBu_r\")\n",
    "plt.show()"
   ]
  },
  {
   "cell_type": "markdown",
   "metadata": {},
   "source": [
    "O gráfico de correlação pode indicar que há colinearidade. A colinearidade pode causar coeficientes encontrados no modelo (por exemplo, regressão logística) não estáveis, mudam facilmente. Como efeito disso, a interpretação do modelo pode não ser válida.\n",
    "Se considerarmos correlação acima de 70% alto, logo, a variável 'free sulfur dioxide' e 'total sulfur dioxide' apresentam 72% de correlação. Nesse caso, poderiamos optar por eliminar uma delas pois terão o mesmo efeito no modelo. Mas optaremos por deixar e ver como os modelos se comportaram."
   ]
  },
  {
   "cell_type": "code",
   "execution_count": 59,
   "metadata": {
    "scrolled": true
   },
   "outputs": [
    {
     "data": {
      "text/plain": [
       "quality                 1.000000\n",
       "alcohol                 0.469674\n",
       "type_White              0.115588\n",
       "citric acid             0.098393\n",
       "free sulfur dioxide     0.054241\n",
       "sulphates               0.040824\n",
       "pH                      0.039920\n",
       "density                -0.026537\n",
       "total sulfur dioxide   -0.049555\n",
       "residual sugar         -0.057475\n",
       "fixed acidity          -0.080232\n",
       "type_Red               -0.115588\n",
       "chlorides              -0.201844\n",
       "volatile acidity       -0.266608\n",
       "Name: quality, dtype: float64"
      ]
     },
     "execution_count": 59,
     "metadata": {},
     "output_type": "execute_result"
    }
   ],
   "source": [
    "correlation['quality'].sort_values(ascending=False)"
   ]
  },
  {
   "cell_type": "markdown",
   "metadata": {},
   "source": [
    "A variável que que apresenta maior correlação com a variavel 'quality' é 'alcohol' com 47%. "
   ]
  },
  {
   "cell_type": "code",
   "execution_count": 62,
   "metadata": {},
   "outputs": [
    {
     "data": {
      "image/png": "[encoded data removed]",
      "text/plain": [
       "<Figure size 576x432 with 1 Axes>"
      ]
     },
     "metadata": {
      "needs_background": "light"
     },
     "output_type": "display_data"
    },
    {
     "data": {
      "image/png": "[encoded data removed]",
      "text/plain": [
       "<Figure size 576x432 with 1 Axes>"
      ]
     },
     "metadata": {
      "needs_background": "light"
     },
     "output_type": "display_data"
    },
    {
     "data": {
      "image/png": "[encoded data removed]",
      "text/plain": [
       "<Figure size 576x432 with 1 Axes>"
      ]
     },
     "metadata": {
      "needs_background": "light"
     },
     "output_type": "display_data"
    },
    {
     "data": {
      "image/png": "[encoded data removed]",
      "text/plain": [
       "<Figure size 576x432 with 1 Axes>"
      ]
     },
     "metadata": {
      "needs_background": "light"
     },
     "output_type": "display_data"
    },
    {
     "data": {
      "image/png": "[encoded data removed]",
      "text/plain": [
       "<Figure size 576x432 with 1 Axes>"
      ]
     },
     "metadata": {
      "needs_background": "light"
     },
     "output_type": "display_data"
    },
    {
     "data": {
      "image/png": "[encoded data removed]",
      "text/plain": [
       "<Figure size 576x432 with 1 Axes>"
      ]
     },
     "metadata": {
      "needs_background": "light"
     },
     "output_type": "display_data"
    },
    {
     "data": {
      "image/png": "[encoded data removed]",
      "text/plain": [
       "<Figure size 576x432 with 1 Axes>"
      ]
     },
     "metadata": {
      "needs_background": "light"
     },
     "output_type": "display_data"
    },
    {
     "data": {
      "image/png": "[encoded data removed]",
      "text/plain": [
       "<Figure size 576x432 with 1 Axes>"
      ]
     },
     "metadata": {
      "needs_background": "light"
     },
     "output_type": "display_data"
    },
    {
     "data": {
      "image/png": "[encoded data removed]",
      "text/plain": [
       "<Figure size 576x432 with 1 Axes>"
      ]
     },
     "metadata": {
      "needs_background": "light"
     },
     "output_type": "display_data"
    },
    {
     "data": {
      "image/png": "[encoded data removed]",
      "text/plain": [
       "<Figure size 576x432 with 1 Axes>"
      ]
     },
     "metadata": {
      "needs_background": "light"
     },
     "output_type": "display_data"
    },
    {
     "data": {
      "image/png": "[encoded data removed]",
      "text/plain": [
       "<Figure size 576x432 with 1 Axes>"
      ]
     },
     "metadata": {
      "needs_background": "light"
     },
     "output_type": "display_data"
    },
    {
     "data": {
      "image/png": "[encoded data removed]",
      "text/plain": [
       "<Figure size 576x432 with 1 Axes>"
      ]
     },
     "metadata": {
      "needs_background": "light"
     },
     "output_type": "display_data"
    },
    {
     "data": {
      "image/png": "[encoded data removed]",
      "text/plain": [
       "<Figure size 576x432 with 1 Axes>"
      ]
     },
     "metadata": {
      "needs_background": "light"
     },
     "output_type": "display_data"
    }
   ],
   "source": [
    "# Gráficos das variaveis em relação a variável resposta\n",
    "\n",
    "fig = plt.figure(figsize = (8,6))\n",
    "sns.barplot(x = 'quality', y = 'alcohol', data = df)\n",
    "\n",
    "fig = plt.figure(figsize = (8,6))\n",
    "sns.barplot(x = 'quality', y = 'type_White', data = df)\n",
    "\n",
    "fig = plt.figure(figsize = (8,6))\n",
    "sns.barplot(x = 'quality', y = 'citric acid', data = df)\n",
    "\n",
    "fig = plt.figure(figsize = (8,6))\n",
    "sns.barplot(x = 'quality', y = 'free sulfur dioxide', data = df)\n",
    "\n",
    "fig = plt.figure(figsize = (8,6))\n",
    "sns.barplot(x = 'quality', y = 'sulphates', data = df)\n",
    "\n",
    "fig = plt.figure(figsize = (8,6))\n",
    "sns.barplot(x = 'quality', y = 'pH', data = df)\n",
    "\n",
    "fig = plt.figure(figsize = (8,6))\n",
    "sns.barplot(x = 'quality', y = 'density', data = df)\n",
    "\n",
    "fig = plt.figure(figsize = (8,6))\n",
    "sns.barplot(x = 'quality', y = 'total sulfur dioxide', data = df)\n",
    "\n",
    "fig = plt.figure(figsize = (8,6))\n",
    "sns.barplot(x = 'quality', y = 'residual sugar', data = df)\n",
    "\n",
    "fig = plt.figure(figsize = (8,6))\n",
    "sns.barplot(x = 'quality', y = 'fixed acidity', data = df)\n",
    "\n",
    "fig = plt.figure(figsize = (8,6))\n",
    "sns.barplot(x = 'quality', y = 'type_Red', data = df)\n",
    "\n",
    "fig = plt.figure(figsize = (8,6))\n",
    "sns.barplot(x = 'quality', y = 'chlorides', data = df)\n",
    "\n",
    "fig = plt.figure(figsize = (8,6))\n",
    "sns.barplot(x = 'quality', y = 'volatile acidity', data = df)\n",
    "\n",
    "plt.show()"
   ]
  },
  {
   "cell_type": "markdown",
   "metadata": {},
   "source": [
    "Alguns comentários sobre as variáveis explicativas:\n",
    "\n",
    "* Boas candidatas:\n",
    "\n",
    "**Alcohol** além de apresentar boa correlação com a qualidade, visivelmente quanto maior seu valor (acima de 10,5)  melhor a qualidade do vinho; <br>\n",
    "**type_white** vinhos do tipo branco aprsentam notas mais elevadas, principalmente, qualidade 9; <br>\n",
    "**citric acid** argumento similar ao do alcohol, exceto a parte da correlação; <br>\n",
    "**density** quanto menor a densidade aparente tem uma qualidade maior;  <br>\n",
    "**type_Red** aparentemente (nada mais) apresenta notas de qualidade mais baixas; <br>\n",
    "**chlorides** quanto maior seu valor menor a qualidade; <br>\n",
    "**volatile acidity** quanto maior seu valor menor a qualidade. <br>\n",
    "<br>\n",
    "* Sem conclusao clara graficamente\n",
    "\n",
    "**free sufur dioxide**<br>\n",
    "**sulphates**<br>\n",
    "**pH**<br>\n",
    "**total sufur dioxide**<br>\n",
    "**residual sugar**<br>\n",
    "**fixed acidity**<br>\n",
    "\n",
    "*Importante destacar que uma análise mais aprofundada sobre as variáveis irá trazer melhores resultados ao modelo, ou seja, se realizar uma feature engineering para trazer maiores ganhos.*"
   ]
  },
  {
   "cell_type": "markdown",
   "metadata": {},
   "source": [
    "### 4. Modelos Preditivos e Avaliação de Performance <a class=\"anchor\" id=\"4-bullet\"></a>"
   ]
  },
  {
   "cell_type": "markdown",
   "metadata": {},
   "source": [
    "### Pontos a destacar sobre a construção do modelo\n",
    "\n",
    "**a.** Como foi a definição da sua estratégia de modelagem? <br>\n",
    "\n",
    "*Esse problema será tratado com um algoritmo superviosado, pois conhecemos a variável resposta. A variavel resposta é categórica e não apresenta um preenchimento adequado em suas categorias, ou seja, são desbalanceados. Uma alternativa seria agrupar os score em classes menores (ex: bons e ruins; ruins, bons e médios,...) ou usufluir de alguma técnica de agrupamento para multi-classes com desbalanceamento. Uma melhor maneira de abordar seria testar as diferentes abordagens e assim escolher aquela que trazer melhores resultados. Dito isso, a estratégia usada para prever a qualidade do vinho foi considerar duas classes (problema de classificação binário) para prever a qualidade do vinho. Além disso, a ideia são testar diferentes algoritimos para tentar encontrar aquele que melhor se adeque ao problema referido.* <br>\n",
    "\n",
    "**b.** Como foi definida a função de custo utilizada? <br>\n",
    "\n",
    "*A função custo irá depender do algoritmo selecionado, por exemplo: no caso de árvores de decisão podemos escolher o critério de entropia como função custo; ou no SVM a função custo é dada como maximização da margem (que irá separar as duas classes, no caso de um problema binário); já para uma regressão logística a função custo é dada para miminizar a entropia cruzada (otimizada iterativamente pelo gradiente descendente).* <br>\n",
    "\n",
    "**c.** Qual foi o critério utilizado na seleção do modelo final?\n",
    "\n",
    "*Como critério para escolha do modelo final utilizaremos métricas para quantificar o quão bom os modelos se comportaram nesse problema. Existe uma gama de critérios para avaliação de modelos cada um como pontos fortes e fracos. Por isso, vamos tentar escolher o algoritmo que possa maximizar duas métricas escolhidas que são: Acurácia e F1-Score. Um pouco sobre cada uma das métricas: Acurácia: irá medir o quão bem são classificados corretamente tanto para a classe positiva quanto negativa perante todas as classificações realizadas, quanto maior seu valor melhor (entre 0 e 1); F1-Score medida com peso ponderado das métricas de precisão e recall, novamente aqui quanto maior seu valor melhor (entre 0 a 1) * <br>\n",
    "\n",
    "**d.** Qual foi o critério utilizado para validação do modelo? Por que escolheu utilizar este método? <br>\n",
    "\n",
    "*Como critério utilizado para validação de modelos vamos utilizar o método k-fold (com k=10 folds). Ele consiste em dividir a amostra orignial em k (k<n) partes, treinar com k-1 partes, testa com a que sobrou. Esse processo é repetivo k vezes, cada vez deixando uma parte diferente de fora do treinamento (para teste). A escolha é que esse método apresenta algumas vantagens perante a outros métodos: i) Menos enviesada que o holdout; ii) menos custoso que o leave-one-out; iii) menor variância que a do leave-one-out.* <br>\n",
    "\n",
    "\n",
    "**e.** Quais evidências você possui de que seu modelo é suficientemente bom?\n",
    "\n",
    "*Devido ao teste de validação cruzada e mais de um algoritmo testado é possível avaliar o desempenho do modelo. Nessas, análises a métricas no período de validação foram importantes para vermos como o modelo conseguir se comportar em bases que não foram usadas no treinamento. Enfim, como resultado podemos ver que a Random Forest foi aquele modelo que obteve melhor desempenho tanto em acurácio quanto f1-score no período de teste e na validação cruzada. Além disso, como já mencionado um melhor tratamento das variáveis explicativas com feature engineering ajudaria em obter um desempenho melhor.* <br>\n",
    "\n",
    "**Podemos melhorar ainda mais os modelos realizando o tunning de parâmetros, por meio do grid search. A ideia é otimizar os parâmetros para uma métrica para obter os melhores parâmetros de cada algoritmo.**\n",
    "\n",
    "### Modelos Propostos\n",
    "\n",
    "*Testaremos modelos dos mais clássicos até o mais complexo:* <br>\n",
    "\n",
    "1.Regressão Logística <br>\n",
    "2.SVM RFB Kernel <br>\n",
    "3.Árvore de Decisão <br>\n",
    "4.KNN <br>\n",
    "5.Random Forest <br>\n",
    "\n",
    "\n",
    "**Preparação para os algoritmos**"
   ]
  },
  {
   "cell_type": "code",
   "execution_count": 16,
   "metadata": {},
   "outputs": [],
   "source": [
    "# Binarização da variável resposta\n",
    "bins = (2, 6.5, 9)\n",
    "group_names = ['bad', 'good']\n",
    "df['target'] = pd.cut(df['quality'], bins = bins, labels = group_names)\n",
    "\n",
    "label_quality = LabelEncoder() # Transformar label em numerico\n",
    "\n",
    "df['target'] = label_quality.fit_transform(df['target'])"
   ]
  },
  {
   "cell_type": "code",
   "execution_count": 17,
   "metadata": {},
   "outputs": [
    {
     "data": {
      "text/plain": [
       "0    4286\n",
       "1    1002\n",
       "Name: target, dtype: int64"
      ]
     },
     "execution_count": 17,
     "metadata": {},
     "output_type": "execute_result"
    }
   ],
   "source": [
    "# Verificar como ficou a nova variável resposta\n",
    "df['target'].value_counts()"
   ]
  },
  {
   "cell_type": "code",
   "execution_count": 18,
   "metadata": {},
   "outputs": [
    {
     "data": {
      "image/png": "[encoded data removed]",
      "text/plain": [
       "<Figure size 576x432 with 1 Axes>"
      ]
     },
     "metadata": {
      "needs_background": "light"
     },
     "output_type": "display_data"
    }
   ],
   "source": [
    "# Variável Resposta : Quality \n",
    "plt.figure(figsize=(8,6))\n",
    "stat = df.groupby('target')['target'].agg(lambda x : float(len(x))/df.shape[0])\n",
    "stat.plot(kind='bar', fontsize=14, width=0.9, color=\"orange\")\n",
    "plt.xticks(rotation=0)\n",
    "plt.ylabel('Proporção', fontsize=14)\n",
    "plt.xlabel('Target', fontsize=14)\n",
    "plt.show()"
   ]
  },
  {
   "cell_type": "markdown",
   "metadata": {},
   "source": [
    "**Particionar os dados para treinamento e teste**"
   ]
  },
  {
   "cell_type": "code",
   "execution_count": 19,
   "metadata": {},
   "outputs": [],
   "source": [
    "# Primeiro separamos a variavel resposta das explicativas\n",
    "X = df.drop(['quality','target'], axis = 1)\n",
    "y = df['target']"
   ]
  },
  {
   "cell_type": "code",
   "execution_count": 55,
   "metadata": {},
   "outputs": [],
   "source": [
    "# Partionando em treino e teste os dados \n",
    "X_train, X_test, y_train, y_test = train_test_split(X, y, test_size = 0.3, random_state = 42)"
   ]
  },
  {
   "cell_type": "code",
   "execution_count": 65,
   "metadata": {},
   "outputs": [
    {
     "name": "stdout",
     "output_type": "stream",
     "text": [
      "Base para treinamento: (3701, 13)\n",
      "Base para teste: (1587, 13)\n"
     ]
    }
   ],
   "source": [
    "print(\"Base para treinamento:\", X_train.shape)\n",
    "print(\"Base para teste:\", X_test.shape)"
   ]
  },
  {
   "cell_type": "markdown",
   "metadata": {},
   "source": [
    "**Regressão Logistica** <br>\n",
    "\n",
    "* Avaliando quais são os melhores parâmetros para do modelo logistico. <br>\n",
    "* Maximizado pelo parametro de regularização $C = 1 / \\lambda$. <br>\n",
    "* $\\lambda$: Controla o trade-off do modelo permitir a melhora do modelo em relação a sua complexidade. <br>\n"
   ]
  },
  {
   "cell_type": "code",
   "execution_count": 54,
   "metadata": {},
   "outputs": [],
   "source": [
    "C_param_range = [0.001,0.01,0.1,1,10,100]\n",
    "\n",
    "perf_model = pd.DataFrame(columns = ['C_parameter','Accuracy','F1'])\n",
    "perf_model['C_parameter'] = C_param_range\n",
    "\n",
    "j = 0\n",
    "for i in C_param_range:\n",
    "    \n",
    "    # Aplicando\n",
    "    logmodel = LogisticRegression(penalty = 'l1', C = i, random_state = 42)\n",
    "    logmodel.fit(X_train, y_train)\n",
    "    \n",
    "    # Predict using model\n",
    "    y_pred_test = logmodel.predict(X_test)\n",
    "    \n",
    "    # Saving accuracy score in table\n",
    "    perf_model.iloc[j,1] = accuracy_score(y_test,y_pred_test)\n",
    "    perf_model.iloc[j,2] = f1_score(y_test, y_pred_test)\n",
    "    j += 1"
   ]
  },
  {
   "cell_type": "code",
   "execution_count": 55,
   "metadata": {},
   "outputs": [
    {
     "data": {
      "text/html": [
       "<div>\n",
       "<style scoped>\n",
       "    .dataframe tbody tr th:only-of-type {\n",
       "        vertical-align: middle;\n",
       "    }\n",
       "\n",
       "    .dataframe tbody tr th {\n",
       "        vertical-align: top;\n",
       "    }\n",
       "\n",
       "    .dataframe thead th {\n",
       "        text-align: right;\n",
       "    }\n",
       "</style>\n",
       "<table border=\"1\" class=\"dataframe\">\n",
       "  <thead>\n",
       "    <tr style=\"text-align: right;\">\n",
       "      <th></th>\n",
       "      <th>C_parameter</th>\n",
       "      <th>Accuracy</th>\n",
       "      <th>F1</th>\n",
       "    </tr>\n",
       "  </thead>\n",
       "  <tbody>\n",
       "    <tr>\n",
       "      <th>0</th>\n",
       "      <td>0.001</td>\n",
       "      <td>0.850379</td>\n",
       "      <td>0</td>\n",
       "    </tr>\n",
       "    <tr>\n",
       "      <th>1</th>\n",
       "      <td>0.010</td>\n",
       "      <td>0.825758</td>\n",
       "      <td>0.163636</td>\n",
       "    </tr>\n",
       "    <tr>\n",
       "      <th>2</th>\n",
       "      <td>0.100</td>\n",
       "      <td>0.850379</td>\n",
       "      <td>0.261682</td>\n",
       "    </tr>\n",
       "    <tr>\n",
       "      <th>3</th>\n",
       "      <td>1.000</td>\n",
       "      <td>0.863636</td>\n",
       "      <td>0.419355</td>\n",
       "    </tr>\n",
       "    <tr>\n",
       "      <th>4</th>\n",
       "      <td>10.000</td>\n",
       "      <td>0.859848</td>\n",
       "      <td>0.412698</td>\n",
       "    </tr>\n",
       "    <tr>\n",
       "      <th>5</th>\n",
       "      <td>100.000</td>\n",
       "      <td>0.857955</td>\n",
       "      <td>0.409449</td>\n",
       "    </tr>\n",
       "  </tbody>\n",
       "</table>\n",
       "</div>"
      ],
      "text/plain": [
       "   C_parameter  Accuracy        F1\n",
       "0        0.001  0.850379         0\n",
       "1        0.010  0.825758  0.163636\n",
       "2        0.100  0.850379  0.261682\n",
       "3        1.000  0.863636  0.419355\n",
       "4       10.000  0.859848  0.412698\n",
       "5      100.000  0.857955  0.409449"
      ]
     },
     "execution_count": 55,
     "metadata": {},
     "output_type": "execute_result"
    }
   ],
   "source": [
    "perf_model"
   ]
  },
  {
   "cell_type": "markdown",
   "metadata": {},
   "source": [
    "O parametro C que apresentou melhor desempenho foi **C = 1.0**"
   ]
  },
  {
   "cell_type": "code",
   "execution_count": 57,
   "metadata": {},
   "outputs": [],
   "source": [
    "# Declaração do modelo - Com Regularização\n",
    "logmodel = LogisticRegression(penalty = 'l1', C = 1, random_state = 42)"
   ]
  },
  {
   "cell_type": "code",
   "execution_count": 58,
   "metadata": {},
   "outputs": [
    {
     "data": {
      "text/plain": [
       "LogisticRegression(C=1, class_weight=None, dual=False, fit_intercept=True,\n",
       "          intercept_scaling=1, max_iter=100, multi_class='ovr', n_jobs=1,\n",
       "          penalty='l1', random_state=42, solver='liblinear', tol=0.0001,\n",
       "          verbose=0, warm_start=False)"
      ]
     },
     "execution_count": 58,
     "metadata": {},
     "output_type": "execute_result"
    }
   ],
   "source": [
    "# Treinando o modelo\n",
    "logmodel.fit(X_train, y_train)"
   ]
  },
  {
   "cell_type": "code",
   "execution_count": 59,
   "metadata": {},
   "outputs": [],
   "source": [
    "# Calcular a predição na base de teste\n",
    "y_pred_test = logmodel.predict(X_test)"
   ]
  },
  {
   "cell_type": "code",
   "execution_count": 60,
   "metadata": {},
   "outputs": [
    {
     "name": "stdout",
     "output_type": "stream",
     "text": [
      "----------Métricas Teste----------\n",
      "\n",
      "Acurácia no Teste é: 0.8267\n",
      "\n",
      "F1-Score no Teste é: 0.3764\n",
      "\n",
      "Recall no Teste é: 0.2757\n",
      "\n",
      "Precisão no Teste é: 0.5929\n",
      "\n",
      "----------Matriz de Confusão----------\n",
      "\n",
      "[[1229   57]\n",
      " [ 218   83]]\n"
     ]
    }
   ],
   "source": [
    "# Métricas para avaliação de performance\n",
    "print(\"----------Métricas Teste----------\")\n",
    "print()\n",
    "print(\"Acurácia no Teste é: {:.4f}\".format(accuracy_score(y_test, y_pred_test)))\n",
    "print()\n",
    "print(\"F1-Score no Teste é: {:.4f}\".format(f1_score(y_test, y_pred_test)))\n",
    "print()\n",
    "print(\"Recall no Teste é: {:.4f}\".format(recall_score(y_test, y_pred_test)))\n",
    "print()\n",
    "print(\"Precisão no Teste é: {:.4f}\".format(precision_score(y_test, y_pred_test)))\n",
    "print()\n",
    "\n",
    "# Matriz de Confusão - Base de Teste\n",
    "print(\"----------Matriz de Confusão----------\")\n",
    "print()\n",
    "print(confusion_matrix(y_test, y_pred_test)) "
   ]
  },
  {
   "cell_type": "code",
   "execution_count": 61,
   "metadata": {},
   "outputs": [
    {
     "data": {
      "image/png": "[encoded data removed]",
      "text/plain": [
       "<Figure size 864x432 with 1 Axes>"
      ]
     },
     "metadata": {
      "needs_background": "light"
     },
     "output_type": "display_data"
    }
   ],
   "source": [
    "# Importancia das variaveis\n",
    "feature_importance = abs(logmodel.coef_[0])\n",
    "feature_importance = 100.0 * (feature_importance / feature_importance.sum())\n",
    "sorted_idx = np.argsort(feature_importance)\n",
    "pos = np.arange(sorted_idx.shape[0]) + .5\n",
    "\n",
    "featfig = plt.figure(figsize=(12,6))\n",
    "featax = featfig.add_subplot(1,1,1)\n",
    "featax.barh(pos, feature_importance[sorted_idx], align='center')\n",
    "featax.set_yticks(pos)\n",
    "featax.set_yticklabels(np.array(X.columns)[sorted_idx], fontsize=8)\n",
    "featax.set_xlabel('Importância Relativa das Variáveis')\n",
    "\n",
    "plt.show()"
   ]
  },
  {
   "cell_type": "markdown",
   "metadata": {},
   "source": [
    "* As variáveis mais importantes do modelo são: **chlorides**; **volatile acidity** e **type_Red**"
   ]
  },
  {
   "cell_type": "markdown",
   "metadata": {},
   "source": [
    "#### Para não se iludirmos com a perfomance do modelo, no caso da base de teste estar muito parecida com a base de treinamento, o que pode causar para novos dados um desempenho ruim. Devemos usar outra forma de avaliarmos, nesse caso, vamos fazer a validação cruzada (k-Fold) com k=10 e ver a consistência de performance do modelo. "
   ]
  },
  {
   "cell_type": "code",
   "execution_count": 67,
   "metadata": {},
   "outputs": [
    {
     "data": {
      "text/plain": [
       "10"
      ]
     },
     "execution_count": 67,
     "metadata": {},
     "output_type": "execute_result"
    }
   ],
   "source": [
    "# Validação Cruzada\n",
    "kf = KFold(n_splits=10)\n",
    "\n",
    "kf.get_n_splits(X)"
   ]
  },
  {
   "cell_type": "code",
   "execution_count": 62,
   "metadata": {},
   "outputs": [
    {
     "name": "stdout",
     "output_type": "stream",
     "text": [
      "Acurácia no Teste é: 0.8207\n",
      "F1-Score no Teste é: 0.3415\n"
     ]
    }
   ],
   "source": [
    "# Utilizando a métrica da acurácia e f1-score na validação cruzada com 10 folds\n",
    "\n",
    "score_test = []\n",
    "f1_test = []\n",
    "\n",
    "for train_index, test_index in kf.split(X,y):\n",
    "    # Segmenta a base para cada fold\n",
    "    X_train_temp, X_test_temp = X.iloc[train_index], X.iloc[test_index]\n",
    "    y_train_temp, y_test_temp = y.iloc[train_index], y.iloc[test_index]\n",
    "    \n",
    "    # Treino do modelo\n",
    "    clf = LogisticRegression(penalty = 'l1', C = 1, random_state = 42)\n",
    "    clf.fit(X_train_temp, y_train_temp)\n",
    "    \n",
    "    # Predição dos dados\n",
    "    y_pred_test_temp = clf.predict(X_test_temp)\n",
    "    \n",
    "    # Métricas de avaliação\n",
    "    score_test.append(accuracy_score(y_test_temp, y_pred_test_temp))\n",
    "    \n",
    "    f1_test.append(f1_score(y_test_temp, y_pred_test_temp))\n",
    "    \n",
    "print(\"Acurácia no Teste é: {:.4f}\".format(np.mean(score_test)))\n",
    "print(\"F1-Score no Teste é: {:.4f}\".format(np.mean(f1_test)))"
   ]
  },
  {
   "cell_type": "markdown",
   "metadata": {},
   "source": [
    "* Podemos ver que a **acurácia** do modelo **caiu de 86.36% para 82.07%** e o **F1-Score** **caiu de 41.94% para 34.15%** quando realizamos a validação cruzada com 10 folds."
   ]
  },
  {
   "cell_type": "markdown",
   "metadata": {},
   "source": [
    "**SMV - Máquinas de Vetores Suporte** <br>"
   ]
  },
  {
   "cell_type": "code",
   "execution_count": 64,
   "metadata": {},
   "outputs": [],
   "source": [
    "# Declaração do modelo\n",
    "svc = SVC()"
   ]
  },
  {
   "cell_type": "code",
   "execution_count": 66,
   "metadata": {},
   "outputs": [],
   "source": [
    "# Escolhendo os melhores parâmetros do modelo SVM \n",
    "param = {\n",
    "    'C': [0.1,1,10],\n",
    "    'kernel':['rbf'],\n",
    "    'gamma' :[0.1,1,10]\n",
    "}\n",
    "grid_svc = GridSearchCV(svc, param_grid=param, scoring='accuracy', cv=10)"
   ]
  },
  {
   "cell_type": "code",
   "execution_count": 67,
   "metadata": {},
   "outputs": [
    {
     "data": {
      "text/plain": [
       "GridSearchCV(cv=10, error_score='raise',\n",
       "       estimator=SVC(C=1.0, cache_size=200, class_weight=None, coef0=0.0,\n",
       "  decision_function_shape='ovr', degree=3, gamma='auto', kernel='rbf',\n",
       "  max_iter=-1, probability=False, random_state=None, shrinking=True,\n",
       "  tol=0.001, verbose=False),\n",
       "       fit_params=None, iid=True, n_jobs=1,\n",
       "       param_grid={'C': [0.1, 1, 10], 'kernel': ['rbf'], 'gamma': [0.1, 1, 10]},\n",
       "       pre_dispatch='2*n_jobs', refit=True, return_train_score='warn',\n",
       "       scoring='accuracy', verbose=0)"
      ]
     },
     "execution_count": 67,
     "metadata": {},
     "output_type": "execute_result"
    }
   ],
   "source": [
    "# Treinando o SVM com alguns parâmetros\n",
    "grid_svc.fit(X_train, y_train)"
   ]
  },
  {
   "cell_type": "code",
   "execution_count": 68,
   "metadata": {},
   "outputs": [
    {
     "data": {
      "text/plain": [
       "{'C': 10, 'gamma': 1, 'kernel': 'rbf'}"
      ]
     },
     "execution_count": 68,
     "metadata": {},
     "output_type": "execute_result"
    }
   ],
   "source": [
    "# Escolhendo os melhores parâmetros\n",
    "grid_svc.best_params_"
   ]
  },
  {
   "cell_type": "code",
   "execution_count": 69,
   "metadata": {},
   "outputs": [],
   "source": [
    "# Declaração do modelo\n",
    "svc = SVC(kernel = 'rbf', gamma = 1, C = 10)"
   ]
  },
  {
   "cell_type": "code",
   "execution_count": 70,
   "metadata": {},
   "outputs": [
    {
     "data": {
      "text/plain": [
       "SVC(C=10, cache_size=200, class_weight=None, coef0=0.0,\n",
       "  decision_function_shape='ovr', degree=3, gamma=1, kernel='rbf',\n",
       "  max_iter=-1, probability=False, random_state=None, shrinking=True,\n",
       "  tol=0.001, verbose=False)"
      ]
     },
     "execution_count": 70,
     "metadata": {},
     "output_type": "execute_result"
    }
   ],
   "source": [
    "# Treinando o SVM com alguns parâmetros\n",
    "svc.fit(X_train, y_train)"
   ]
  },
  {
   "cell_type": "code",
   "execution_count": 71,
   "metadata": {},
   "outputs": [],
   "source": [
    "# Calcular a predição na base de teste\n",
    "y_pred_test = svc.predict(X_test)"
   ]
  },
  {
   "cell_type": "code",
   "execution_count": 72,
   "metadata": {},
   "outputs": [
    {
     "name": "stdout",
     "output_type": "stream",
     "text": [
      "----------Métricas Teste----------\n",
      "\n",
      "Acurácia no Teste é: 0.8091\n",
      "\n",
      "F1-Score no Teste é: 0.0319\n",
      "\n",
      "Recall no Teste é: 0.0166\n",
      "\n",
      "Precisão no Teste é: 0.4167\n",
      "\n",
      "----------Matriz de Confusão----------\n",
      "\n",
      "[[1279    7]\n",
      " [ 296    5]]\n"
     ]
    }
   ],
   "source": [
    "# Métricas para avaliação de performance\n",
    "print(\"----------Métricas Teste----------\")\n",
    "print()\n",
    "print(\"Acurácia no Teste é: {:.4f}\".format(accuracy_score(y_test, y_pred_test)))\n",
    "print()\n",
    "print(\"F1-Score no Teste é: {:.4f}\".format(f1_score(y_test, y_pred_test)))\n",
    "print()\n",
    "print(\"Recall no Teste é: {:.4f}\".format(recall_score(y_test, y_pred_test)))\n",
    "print()\n",
    "print(\"Precisão no Teste é: {:.4f}\".format(precision_score(y_test, y_pred_test)))\n",
    "print()\n",
    "\n",
    "# Matriz de Confusão - Base de Teste\n",
    "print(\"----------Matriz de Confusão----------\")\n",
    "print()\n",
    "print(confusion_matrix(y_test, y_pred_test)) "
   ]
  },
  {
   "cell_type": "markdown",
   "metadata": {},
   "source": [
    "**Como podemos observar por mais que esse algoritmo apresentou uma alta acurácia 80.91%, nas demais métricas apresentou um desempenho muito baixo como no f1-score de apenas 3.19%.**"
   ]
  },
  {
   "cell_type": "code",
   "execution_count": 73,
   "metadata": {},
   "outputs": [
    {
     "data": {
      "text/plain": [
       "10"
      ]
     },
     "execution_count": 73,
     "metadata": {},
     "output_type": "execute_result"
    }
   ],
   "source": [
    "# Validação Cruzada\n",
    "kf = KFold(n_splits=10)\n",
    "\n",
    "kf.get_n_splits(X)"
   ]
  },
  {
   "cell_type": "code",
   "execution_count": 74,
   "metadata": {},
   "outputs": [
    {
     "name": "stdout",
     "output_type": "stream",
     "text": [
      "Acurácia no Teste é: 0.8094\n",
      "F1-Score no Teste é: 0.0235\n"
     ]
    }
   ],
   "source": [
    "# Utilizando a métrica da acurácia e f1-score na validação cruzada com 10 folds\n",
    "\n",
    "score_test = []\n",
    "f1_test = []\n",
    "\n",
    "for train_index, test_index in kf.split(X,y):\n",
    "    # Segmenta a base para cada fold\n",
    "    X_train_temp, X_test_temp = X.iloc[train_index], X.iloc[test_index]\n",
    "    y_train_temp, y_test_temp = y.iloc[train_index], y.iloc[test_index]\n",
    "    \n",
    "    # Treino do modelo\n",
    "    clf = SVC(kernel = 'rbf', gamma = 1, C = 10)\n",
    "    clf.fit(X_train_temp, y_train_temp)\n",
    "    \n",
    "    # Predição dos dados\n",
    "    y_pred_test_temp = clf.predict(X_test_temp)\n",
    "    \n",
    "    # Métricas de avaliação\n",
    "    score_test.append(accuracy_score(y_test_temp, y_pred_test_temp))\n",
    "    \n",
    "    f1_test.append(f1_score(y_test_temp, y_pred_test_temp))\n",
    "    \n",
    "print(\"Acurácia no Teste é: {:.4f}\".format(np.mean(score_test)))\n",
    "print(\"F1-Score no Teste é: {:.4f}\".format(np.mean(f1_test)))"
   ]
  },
  {
   "cell_type": "markdown",
   "metadata": {},
   "source": [
    "**Mesmo na validação cruzada o desempenho desse algoritmo foi baixo conforme evidênciado pelo F1-score**"
   ]
  },
  {
   "cell_type": "markdown",
   "metadata": {},
   "source": [
    "**Árvores de Decisão** <br>"
   ]
  },
  {
   "cell_type": "code",
   "execution_count": 75,
   "metadata": {},
   "outputs": [],
   "source": [
    "# Declaração do modelo\n",
    "tree = DecisionTreeClassifier()"
   ]
  },
  {
   "cell_type": "code",
   "execution_count": 76,
   "metadata": {},
   "outputs": [],
   "source": [
    "# Escolhendo os melhores parâmetros do modelo Árvore de Decisão\n",
    "param = {'criterion':['gini','entropy'],'max_depth':[50,70,90,120,150]}\n",
    "grid_tree = GridSearchCV(tree, param_grid=param, scoring='accuracy', cv=10)"
   ]
  },
  {
   "cell_type": "code",
   "execution_count": 77,
   "metadata": {},
   "outputs": [
    {
     "data": {
      "text/plain": [
       "GridSearchCV(cv=10, error_score='raise',\n",
       "       estimator=DecisionTreeClassifier(class_weight=None, criterion='gini', max_depth=None,\n",
       "            max_features=None, max_leaf_nodes=None,\n",
       "            min_impurity_decrease=0.0, min_impurity_split=None,\n",
       "            min_samples_leaf=1, min_samples_split=2,\n",
       "            min_weight_fraction_leaf=0.0, presort=False, random_state=None,\n",
       "            splitter='best'),\n",
       "       fit_params=None, iid=True, n_jobs=1,\n",
       "       param_grid={'criterion': ['gini', 'entropy'], 'max_depth': [50, 70, 90, 120, 150]},\n",
       "       pre_dispatch='2*n_jobs', refit=True, return_train_score='warn',\n",
       "       scoring='accuracy', verbose=0)"
      ]
     },
     "execution_count": 77,
     "metadata": {},
     "output_type": "execute_result"
    }
   ],
   "source": [
    "# Treinando a árvore de decisão com alguns parâmetros\n",
    "grid_tree.fit(X_train, y_train)"
   ]
  },
  {
   "cell_type": "code",
   "execution_count": 78,
   "metadata": {},
   "outputs": [
    {
     "data": {
      "text/plain": [
       "{'criterion': 'entropy', 'max_depth': 90}"
      ]
     },
     "execution_count": 78,
     "metadata": {},
     "output_type": "execute_result"
    }
   ],
   "source": [
    "# Escolhendo os melhores parâmetros\n",
    "grid_tree.best_params_"
   ]
  },
  {
   "cell_type": "code",
   "execution_count": 79,
   "metadata": {},
   "outputs": [],
   "source": [
    "# Declaração do modelo\n",
    "tree = DecisionTreeClassifier(criterion = 'entropy', max_depth = 90)"
   ]
  },
  {
   "cell_type": "code",
   "execution_count": 80,
   "metadata": {},
   "outputs": [
    {
     "data": {
      "text/plain": [
       "DecisionTreeClassifier(class_weight=None, criterion='entropy', max_depth=90,\n",
       "            max_features=None, max_leaf_nodes=None,\n",
       "            min_impurity_decrease=0.0, min_impurity_split=None,\n",
       "            min_samples_leaf=1, min_samples_split=2,\n",
       "            min_weight_fraction_leaf=0.0, presort=False, random_state=None,\n",
       "            splitter='best')"
      ]
     },
     "execution_count": 80,
     "metadata": {},
     "output_type": "execute_result"
    }
   ],
   "source": [
    "# Treinando a árvore de decisão com os melhores parâmetros\n",
    "tree.fit(X_train, y_train)"
   ]
  },
  {
   "cell_type": "code",
   "execution_count": 81,
   "metadata": {},
   "outputs": [],
   "source": [
    "# Calcular a predição na base de teste\n",
    "y_pred_test = tree.predict(X_test)"
   ]
  },
  {
   "cell_type": "code",
   "execution_count": 82,
   "metadata": {},
   "outputs": [
    {
     "name": "stdout",
     "output_type": "stream",
     "text": [
      "----------Métricas Teste----------\n",
      "\n",
      "Acurácia no Teste é: 0.7832\n",
      "\n",
      "F1-Score no Teste é: 0.4089\n",
      "\n",
      "Recall no Teste é: 0.3953\n",
      "\n",
      "Precisão no Teste é: 0.4235\n",
      "\n",
      "----------Matriz de Confusão----------\n",
      "\n",
      "[[1124  162]\n",
      " [ 182  119]]\n"
     ]
    }
   ],
   "source": [
    "# Métricas para avaliação de performance\n",
    "print(\"----------Métricas Teste----------\")\n",
    "print()\n",
    "print(\"Acurácia no Teste é: {:.4f}\".format(accuracy_score(y_test, y_pred_test)))\n",
    "print()\n",
    "print(\"F1-Score no Teste é: {:.4f}\".format(f1_score(y_test, y_pred_test)))\n",
    "print()\n",
    "print(\"Recall no Teste é: {:.4f}\".format(recall_score(y_test, y_pred_test)))\n",
    "print()\n",
    "print(\"Precisão no Teste é: {:.4f}\".format(precision_score(y_test, y_pred_test)))\n",
    "print()\n",
    "\n",
    "# Matriz de Confusão - Base de Teste\n",
    "print(\"----------Matriz de Confusão----------\")\n",
    "print()\n",
    "print(confusion_matrix(y_test, y_pred_test)) "
   ]
  },
  {
   "cell_type": "markdown",
   "metadata": {},
   "source": [
    "**Esse algoritmo apresentou uma acurácia de 78.32% e um desempenho razoável no F1-score 40.89%**"
   ]
  },
  {
   "cell_type": "code",
   "execution_count": 83,
   "metadata": {},
   "outputs": [
    {
     "data": {
      "text/plain": [
       "10"
      ]
     },
     "execution_count": 83,
     "metadata": {},
     "output_type": "execute_result"
    }
   ],
   "source": [
    "# Validação Cruzada\n",
    "kf = KFold(n_splits=10)\n",
    "\n",
    "kf.get_n_splits(X)"
   ]
  },
  {
   "cell_type": "code",
   "execution_count": 84,
   "metadata": {
    "scrolled": true
   },
   "outputs": [
    {
     "name": "stdout",
     "output_type": "stream",
     "text": [
      "Acurácia no Teste é: 0.7597\n",
      "F1-Score no Teste é: 0.3858\n"
     ]
    }
   ],
   "source": [
    "# Utilizando a métrica da acurácia e f1-score na validação cruzada com 10 folds\n",
    "\n",
    "score_test = []\n",
    "f1_test = []\n",
    "\n",
    "for train_index, test_index in kf.split(X,y):\n",
    "    # Segmenta a base para cada fold\n",
    "    X_train_temp, X_test_temp = X.iloc[train_index], X.iloc[test_index]\n",
    "    y_train_temp, y_test_temp = y.iloc[train_index], y.iloc[test_index]\n",
    "    \n",
    "    # Treino do modelo\n",
    "    clf = DecisionTreeClassifier(criterion = 'entropy', max_depth = 90)\n",
    "    clf.fit(X_train_temp, y_train_temp)\n",
    "    \n",
    "    # Predição dos dados\n",
    "    y_pred_test_temp = clf.predict(X_test_temp)\n",
    "    \n",
    "    # Métricas de avaliação\n",
    "    score_test.append(accuracy_score(y_test_temp, y_pred_test_temp))\n",
    "    \n",
    "    f1_test.append(f1_score(y_test_temp, y_pred_test_temp))\n",
    "    \n",
    "print(\"Acurácia no Teste é: {:.4f}\".format(np.mean(score_test)))\n",
    "print(\"F1-Score no Teste é: {:.4f}\".format(np.mean(f1_test)))\n"
   ]
  },
  {
   "cell_type": "markdown",
   "metadata": {},
   "source": [
    "**Na validação cruzada o modelo apresentou uma performance razoável tanto na acurácia quanto f1-score. Para melhorar o modelo devemos rodar mais parâmetro, tratar melhor as variáveis, e evoluir esse modelo que é simples para baggings, boosting,...**"
   ]
  },
  {
   "cell_type": "markdown",
   "metadata": {},
   "source": [
    "**KNN** <br>"
   ]
  },
  {
   "cell_type": "code",
   "execution_count": 85,
   "metadata": {},
   "outputs": [],
   "source": [
    "# Encontrar o melhor valor k para o algortimo knn\n",
    "neighbors = np.arange(1,15)\n",
    "train_acc = np.empty(len(neighbors))\n",
    "test_acc  = np.empty(len(neighbors))\n",
    "\n",
    "for i,k in enumerate(neighbors):\n",
    "    # Treino do modelo\n",
    "    knn = KNeighborsClassifier(n_neighbors=k)\n",
    "    knn.fit(X_train, y_train)\n",
    "    \n",
    "    # Acuracia para a base de treinamento\n",
    "    train_acc[i] = knn.score(X_train, y_train)\n",
    "    \n",
    "    # Acuracia para a base de teste\n",
    "    test_acc[i] = knn.score(X_test, y_test) "
   ]
  },
  {
   "cell_type": "code",
   "execution_count": 86,
   "metadata": {},
   "outputs": [
    {
     "data": {
      "image/png": "[encoded data removed]",
      "text/plain": [
       "<Figure size 432x288 with 1 Axes>"
      ]
     },
     "metadata": {
      "needs_background": "light"
     },
     "output_type": "display_data"
    }
   ],
   "source": [
    "# Gráfico do desempenho\n",
    "plt.title('k-NN Variando o número de vizinhos')\n",
    "plt.plot(neighbors, test_acc, label='Acuracia Teste')\n",
    "plt.plot(neighbors, train_acc, label='Acuracio Treino')\n",
    "plt.legend()\n",
    "plt.xlabel('Numero de vizinhos')\n",
    "plt.ylabel('Acuracia')\n",
    "plt.show()"
   ]
  },
  {
   "cell_type": "code",
   "execution_count": 87,
   "metadata": {},
   "outputs": [],
   "source": [
    "# Treinando o modelo com melhor k = 14\n",
    "knn = KNeighborsClassifier(n_neighbors=14)"
   ]
  },
  {
   "cell_type": "code",
   "execution_count": 88,
   "metadata": {},
   "outputs": [
    {
     "data": {
      "text/plain": [
       "KNeighborsClassifier(algorithm='auto', leaf_size=30, metric='minkowski',\n",
       "           metric_params=None, n_jobs=1, n_neighbors=14, p=2,\n",
       "           weights='uniform')"
      ]
     },
     "execution_count": 88,
     "metadata": {},
     "output_type": "execute_result"
    }
   ],
   "source": [
    "# Fitando o modelo\n",
    "knn.fit(X_train,y_train)"
   ]
  },
  {
   "cell_type": "code",
   "execution_count": 89,
   "metadata": {},
   "outputs": [],
   "source": [
    "# Calcular a predição na base de teste\n",
    "y_pred_test = knn.predict(X_test)"
   ]
  },
  {
   "cell_type": "code",
   "execution_count": 90,
   "metadata": {},
   "outputs": [
    {
     "name": "stdout",
     "output_type": "stream",
     "text": [
      "----------Métricas Teste----------\n",
      "\n",
      "Acurácia no Teste é: 0.8103\n",
      "\n",
      "F1-Score no Teste é: 0.1173\n",
      "\n",
      "Recall no Teste é: 0.0664\n",
      "\n",
      "Precisão no Teste é: 0.5000\n",
      "\n",
      "----------Matriz de Confusão----------\n",
      "\n",
      "[[1266   20]\n",
      " [ 281   20]]\n"
     ]
    }
   ],
   "source": [
    "# Métricas para avaliação de performance\n",
    "print(\"----------Métricas Teste----------\")\n",
    "print()\n",
    "print(\"Acurácia no Teste é: {:.4f}\".format(accuracy_score(y_test, y_pred_test)))\n",
    "print()\n",
    "print(\"F1-Score no Teste é: {:.4f}\".format(f1_score(y_test, y_pred_test)))\n",
    "print()\n",
    "print(\"Recall no Teste é: {:.4f}\".format(recall_score(y_test, y_pred_test)))\n",
    "print()\n",
    "print(\"Precisão no Teste é: {:.4f}\".format(precision_score(y_test, y_pred_test)))\n",
    "print()\n",
    "\n",
    "# Matriz de Confusão - Base de Teste\n",
    "print(\"----------Matriz de Confusão----------\")\n",
    "print()\n",
    "print(confusion_matrix(y_test, y_pred_test)) "
   ]
  },
  {
   "cell_type": "markdown",
   "metadata": {},
   "source": [
    "**Esse algoritmo apresentou uma acurácia de 81.03% e um desempenho razoável no F1-score 11.73%**"
   ]
  },
  {
   "cell_type": "code",
   "execution_count": 92,
   "metadata": {},
   "outputs": [
    {
     "data": {
      "text/plain": [
       "10"
      ]
     },
     "execution_count": 92,
     "metadata": {},
     "output_type": "execute_result"
    }
   ],
   "source": [
    "# Validação Cruzada\n",
    "kf = KFold(n_splits=10)\n",
    "\n",
    "kf.get_n_splits(X)"
   ]
  },
  {
   "cell_type": "code",
   "execution_count": 93,
   "metadata": {},
   "outputs": [
    {
     "name": "stdout",
     "output_type": "stream",
     "text": [
      "Acurácia no Teste é: 0.8032\n",
      "F1-Score no Teste é: 0.0952\n"
     ]
    }
   ],
   "source": [
    "# Utilizando a métrica da acurácia e f1-score na validação cruzada com 10 folds\n",
    "\n",
    "score_test = []\n",
    "f1_test = []\n",
    "\n",
    "for train_index, test_index in kf.split(X,y):\n",
    "    # Segmenta a base para cada fold\n",
    "    X_train_temp, X_test_temp = X.iloc[train_index], X.iloc[test_index]\n",
    "    y_train_temp, y_test_temp = y.iloc[train_index], y.iloc[test_index]\n",
    "    \n",
    "    # Treino do modelo\n",
    "    knn = KNeighborsClassifier(n_neighbors=14)\n",
    "    clf = knn.fit(X_train_temp,y_train_temp)\n",
    "    clf.fit(X_train_temp, y_train_temp)\n",
    "    \n",
    "    # Predição dos dados\n",
    "    y_pred_test_temp = clf.predict(X_test_temp)\n",
    "    \n",
    "    # Métricas de avaliação\n",
    "    score_test.append(accuracy_score(y_test_temp, y_pred_test_temp))\n",
    "    \n",
    "    f1_test.append(f1_score(y_test_temp, y_pred_test_temp))\n",
    "    \n",
    "print(\"Acurácia no Teste é: {:.4f}\".format(np.mean(score_test)))\n",
    "print(\"F1-Score no Teste é: {:.4f}\".format(np.mean(f1_test)))\n"
   ]
  },
  {
   "cell_type": "markdown",
   "metadata": {},
   "source": [
    "**Na validação cruzada apresentou um desempenho razoavel de acurácia e baixo de F1-score.**"
   ]
  },
  {
   "cell_type": "markdown",
   "metadata": {},
   "source": [
    "**Random Forest** <br>"
   ]
  },
  {
   "cell_type": "code",
   "execution_count": 95,
   "metadata": {},
   "outputs": [],
   "source": [
    "rfc=RandomForestClassifier()"
   ]
  },
  {
   "cell_type": "code",
   "execution_count": 96,
   "metadata": {},
   "outputs": [],
   "source": [
    "param_grid = { \n",
    "    'n_estimators': [200, 500],\n",
    "    'max_features': ['auto', 'sqrt', 'log2'],\n",
    "    'max_depth' : [4,6,8],\n",
    "    'criterion' :['gini', 'entropy']\n",
    "}"
   ]
  },
  {
   "cell_type": "code",
   "execution_count": 98,
   "metadata": {},
   "outputs": [
    {
     "data": {
      "text/plain": [
       "GridSearchCV(cv=10, error_score='raise',\n",
       "       estimator=RandomForestClassifier(bootstrap=True, class_weight=None, criterion='gini',\n",
       "            max_depth=None, max_features='auto', max_leaf_nodes=None,\n",
       "            min_impurity_decrease=0.0, min_impurity_split=None,\n",
       "            min_samples_leaf=1, min_samples_split=2,\n",
       "            min_weight_fraction_leaf=0.0, n_estimators=10, n_jobs=1,\n",
       "            oob_score=False, random_state=42, verbose=0, warm_start=False),\n",
       "       fit_params=None, iid=True, n_jobs=1,\n",
       "       param_grid={'n_estimators': [200, 500], 'max_features': ['auto', 'sqrt', 'log2'], 'max_depth': [4, 6, 8], 'criterion': ['gini', 'entropy']},\n",
       "       pre_dispatch='2*n_jobs', refit=True, return_train_score='warn',\n",
       "       scoring=None, verbose=0)"
      ]
     },
     "execution_count": 98,
     "metadata": {},
     "output_type": "execute_result"
    }
   ],
   "source": [
    "grid_rf = GridSearchCV(estimator=rfc, param_grid=param_grid, cv= 10)\n",
    "grid_rf.fit(X_train, y_train)"
   ]
  },
  {
   "cell_type": "code",
   "execution_count": 100,
   "metadata": {},
   "outputs": [
    {
     "data": {
      "text/plain": [
       "{'criterion': 'gini',\n",
       " 'max_depth': 8,\n",
       " 'max_features': 'auto',\n",
       " 'n_estimators': 200}"
      ]
     },
     "execution_count": 100,
     "metadata": {},
     "output_type": "execute_result"
    }
   ],
   "source": [
    "# Escolhendo os melhores parâmetros\n",
    "grid_rf.best_params_"
   ]
  },
  {
   "cell_type": "code",
   "execution_count": 101,
   "metadata": {},
   "outputs": [],
   "source": [
    "rfc = RandomForestClassifier(criterion='gini', max_depth=8, max_features='auto', n_estimators=200)"
   ]
  },
  {
   "cell_type": "code",
   "execution_count": 102,
   "metadata": {},
   "outputs": [
    {
     "data": {
      "text/plain": [
       "RandomForestClassifier(bootstrap=True, class_weight=None, criterion='gini',\n",
       "            max_depth=8, max_features='auto', max_leaf_nodes=None,\n",
       "            min_impurity_decrease=0.0, min_impurity_split=None,\n",
       "            min_samples_leaf=1, min_samples_split=2,\n",
       "            min_weight_fraction_leaf=0.0, n_estimators=200, n_jobs=1,\n",
       "            oob_score=False, random_state=None, verbose=0,\n",
       "            warm_start=False)"
      ]
     },
     "execution_count": 102,
     "metadata": {},
     "output_type": "execute_result"
    }
   ],
   "source": [
    "# Treinando a random forest com os melhores parâmetros\n",
    "rfc.fit(X_train, y_train)"
   ]
  },
  {
   "cell_type": "code",
   "execution_count": 104,
   "metadata": {},
   "outputs": [],
   "source": [
    "# Calcular a predição na base de teste\n",
    "y_pred_test = rfc.predict(X_test)"
   ]
  },
  {
   "cell_type": "code",
   "execution_count": 105,
   "metadata": {},
   "outputs": [
    {
     "name": "stdout",
     "output_type": "stream",
     "text": [
      "----------Métricas Teste----------\n",
      "\n",
      "Acurácia no Teste é: 0.8311\n",
      "\n",
      "F1-Score no Teste é: 0.3738\n",
      "\n",
      "Recall no Teste é: 0.2658\n",
      "\n",
      "Precisão no Teste é: 0.6299\n",
      "\n",
      "----------Matriz de Confusão----------\n",
      "\n",
      "[[1239   47]\n",
      " [ 221   80]]\n"
     ]
    }
   ],
   "source": [
    "# Métricas para avaliação de performance\n",
    "print(\"----------Métricas Teste----------\")\n",
    "print()\n",
    "print(\"Acurácia no Teste é: {:.4f}\".format(accuracy_score(y_test, y_pred_test)))\n",
    "print()\n",
    "print(\"F1-Score no Teste é: {:.4f}\".format(f1_score(y_test, y_pred_test)))\n",
    "print()\n",
    "print(\"Recall no Teste é: {:.4f}\".format(recall_score(y_test, y_pred_test)))\n",
    "print()\n",
    "print(\"Precisão no Teste é: {:.4f}\".format(precision_score(y_test, y_pred_test)))\n",
    "print()\n",
    "\n",
    "# Matriz de Confusão - Base de Teste\n",
    "print(\"----------Matriz de Confusão----------\")\n",
    "print()\n",
    "print(confusion_matrix(y_test, y_pred_test)) "
   ]
  },
  {
   "cell_type": "code",
   "execution_count": 106,
   "metadata": {},
   "outputs": [
    {
     "data": {
      "text/plain": [
       "10"
      ]
     },
     "execution_count": 106,
     "metadata": {},
     "output_type": "execute_result"
    }
   ],
   "source": [
    "# Validação Cruzada\n",
    "kf = KFold(n_splits=10)\n",
    "\n",
    "kf.get_n_splits(X)"
   ]
  },
  {
   "cell_type": "code",
   "execution_count": 108,
   "metadata": {},
   "outputs": [
    {
     "name": "stdout",
     "output_type": "stream",
     "text": [
      "Acurácia no Teste é: 0.8325\n",
      "F1-Score no Teste é: 0.3596\n"
     ]
    }
   ],
   "source": [
    "# Utilizando a métrica da acurácia e f1-score na validação cruzada com 10 folds\n",
    "\n",
    "score_test = []\n",
    "f1_test = []\n",
    "\n",
    "for train_index, test_index in kf.split(X,y):\n",
    "    # Segmenta a base para cada fold\n",
    "    X_train_temp, X_test_temp = X.iloc[train_index], X.iloc[test_index]\n",
    "    y_train_temp, y_test_temp = y.iloc[train_index], y.iloc[test_index]\n",
    "    \n",
    "    # Treino do modelo\n",
    "    clf = RandomForestClassifier(criterion='gini', max_depth=8, max_features='auto', n_estimators=200)\n",
    "    clf.fit(X_train_temp, y_train_temp)\n",
    "    \n",
    "    # Predição dos dados\n",
    "    y_pred_test_temp = clf.predict(X_test_temp)\n",
    "    \n",
    "    # Métricas de avaliação\n",
    "    score_test.append(accuracy_score(y_test_temp, y_pred_test_temp))\n",
    "    \n",
    "    f1_test.append(f1_score(y_test_temp, y_pred_test_temp))\n",
    "    \n",
    "print(\"Acurácia no Teste é: {:.4f}\".format(np.mean(score_test)))\n",
    "print(\"F1-Score no Teste é: {:.4f}\".format(np.mean(f1_test)))\n"
   ]
  },
  {
   "cell_type": "markdown",
   "metadata": {},
   "source": [
    "### 5. Conclusão <a class=\"anchor\" id=\"5-bullet\"></a>"
   ]
  },
  {
   "cell_type": "markdown",
   "metadata": {},
   "source": [
    "Consolidando os resultados obtidos dos 5 modelos na validação cruzada com (10 folds), utilizando duas métricas (acurácia e f1-score) para avaliar qual é o melhor modelo. Pela tabela abaixo, podemos observar que o que obteve o **maior valor de acurácia (83.25%)** e a segundo melhor f1-score (35.96%, o primeiro obteve 38.58%) foi a **Random Forest (Árvores Aleatórias)**. Esse algoritmo, tem muitas vantagens para conseguir classificar diversos tipos de problemas e nesse caso foi aquele que apresentou melhor desempenho. Outro modelo que teve um bom desempenho foi a regressão logística, modelo clássico que para alguns casos apresenta um desempenho muito satisfatório. <br>\n",
    "\n",
    "Além disso, podemos mencionar que existem diversos outros algoritmos e técnicas de seleção de variáveis, feature engineering que deveriam ser testadas e usadas para tentar extrair o máximo de performance para esse problema. Outro ponto para destacar, é o fato de ter opitado por trabalhar com uma variável resposta binária, poderiamos ter feitos outros testes para ver se realmente era a melhor estratégia. <br>\n",
    "\n",
    "Por fim, foi mostrado algumas ferramentas que podem ajudar a obter bom modelos e com uma performance que seja satisfatória para resolução do problema em questão."
   ]
  },
  {
   "cell_type": "code",
   "execution_count": 120,
   "metadata": {},
   "outputs": [],
   "source": [
    "I = pd.Index([\"Regressão Logística\", \"SVM\", \"Árvore de Decisão\", \"KNN\", \"Random Forest\"], name=\"rows\")\n",
    "C = pd.Index([\"Acurácia\", \"F1-Score\"], name=\"columns\")\n",
    "df = pd.DataFrame(data=np.matrix([[82.07, 34.15], \n",
    "                                  [80.94, 02.35], \n",
    "                                  [75.97, 38.58], \n",
    "                                  [80.32, 09.52], \n",
    "                                  [83.25, 35.96]]), index=I, columns=C)"
   ]
  },
  {
   "cell_type": "code",
   "execution_count": 122,
   "metadata": {},
   "outputs": [
    {
     "name": "stdout",
     "output_type": "stream",
     "text": [
      "columns              Acurácia  F1-Score\n",
      "rows                                   \n",
      "Regressão Logística     82.07     34.15\n",
      "SVM                     80.94      2.35\n",
      "Árvore de Decisão       75.97     38.58\n",
      "KNN                     80.32      9.52\n",
      "Random Forest           83.25     35.96\n"
     ]
    }
   ],
   "source": [
    "print(df)"
   ]
  },
  {
   "cell_type": "markdown",
   "metadata": {},
   "source": [
    "# Muito obrigado!"
   ]
  }
 ],
 "metadata": {
  "kernelspec": {
   "display_name": "Python 3",
   "language": "python",
   "name": "python3"
  },
  "language_info": {
   "codemirror_mode": {
    "name": "ipython",
    "version": 3
   },
   "file_extension": ".py",
   "mimetype": "text/x-python",
   "name": "python",
   "nbconvert_exporter": "python",
   "pygments_lexer": "ipython3",
   "version": "3.7.0"
  }
 },
 "nbformat": 4,
 "nbformat_minor": 2
}
